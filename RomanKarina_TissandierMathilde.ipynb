{
 "cells": [
  {
   "cell_type": "markdown",
   "id": "26048455-7c0e-4362-bada-e7db2795a673",
   "metadata": {},
   "source": [
    "<p style=\"color:#FFF; background:#520099; padding:12px; font-size:20px; font-style:italic; text-align:center\">\n",
    "<span style=\"width:49%; display:inline-block; text-align:left\">ROMAN Karina & TISSANDIER Mathilde</span>\n",
    "<span style=\"width:50%; display:inline-block; text-align:right\">CMI ISI M1</span>\n",
    "<span style=\"font-size:45px; font-style:normal\"><b>PROJET</b></span><br>\n",
    "<span style=\"width:49%; display:inline-block\">Outils Informatiques pour le Traitement des Données</span>"
   ]
  },
  {
   "cell_type": "markdown",
   "id": "e6ff88a7",
   "metadata": {},
   "source": [
    "<h2 style=\"padding:15px; color:#FFFF; background: #8a2be2 ;  text-align:center\">RECHERCHE DE CORRELATIONS ENTRE DES VARIABLES SOCIAUX-ECONOMIQUES EN FRANCE ET DES EVENEMENTS MAJEURS MONDIAUX</h2>"
   ]
  },
  {
   "cell_type": "markdown",
   "id": "09705e82",
   "metadata": {},
   "source": [
    "<h4 style=\"padding:15px; color:#FFFF; background: #bf7de8\">Nous avons codé sur deux environnemts différents : VS Code et Jupyter Notebook. Il semble y avoir des difficultés avec l'un des graphiques lorsque le code est exécuté dans l'environnement VS Code. Pour une expérience plus fluide et pour profiter pleinement du projet, il est recommandé d'utiliser Jupyter Notebook pour l'étude du code.</h4>"
   ]
  },
  {
   "cell_type": "markdown",
   "id": "ab3ffa1e",
   "metadata": {},
   "source": [
    "<h2 style=\"padding:15px; color:#FFFF; background:#520099\">Les imports</h2>"
   ]
  },
  {
   "cell_type": "code",
   "execution_count": 2,
   "id": "4e8ee623-82dd-4c91-b286-60f3d691438c",
   "metadata": {
    "tags": []
   },
   "outputs": [],
   "source": [
    "from pymongo import MongoClient\n",
    "from io import BytesIO\n",
    "import requests\n",
    "import sys\n",
    "import dash\n",
    "import pandas as pd\n",
    "import seaborn as sns\n",
    "import matplotlib.pyplot as plt\n",
    "from matplotlib.ticker import FuncFormatter\n",
    "from matplotlib.colors import Normalize\n",
    "from matplotlib.colorbar import ColorbarBase\n",
    "import plotly.express as px\n",
    "import plotly.graph_objects as go\n",
    "from dash import dcc, html\n",
    "from dash.dependencies import Input, Output\n",
    "from ipywidgets import interact, widgets\n",
    "from IPython.display import display\n",
    "import geopandas as gpd\n",
    "import statsmodels.api as sm\n",
    "import warnings\n",
    "warnings.filterwarnings(\"ignore\", category=UserWarning, module=\"statsmodels\")\n",
    "warnings.simplefilter(action='ignore', category=FutureWarning)"
   ]
  },
  {
   "cell_type": "markdown",
   "id": "0dfb33cd-4575-48e7-90d6-62b3cda9e6ea",
   "metadata": {
    "tags": []
   },
   "source": [
    "<h2 style=\"padding:15px; color:#FFFF; background:#520099\">Bases de données</h2>"
   ]
  },
  {
   "cell_type": "markdown",
   "id": "f0875351",
   "metadata": {},
   "source": [
    "Pour améliorer la lisibilité et la visualisation de nos données stockées dans une base MongoDB, nous recommandons l'installation de l'extension MongoDB Compass. Cela facilitera la navigation et l'exploration des données, offrant une expérience plus conviviale et intuitive pour la gestion de la base de données.\n",
    "- [Base de données MongoDB](https://www.mongodb.com/fr-fr)\n",
    "- [MongoDB Compass](https://www.mongodb.com/products/tools/compass)\n",
    "\n",
    "Installation sur Windows 10/11 : [Tutoriel](https://www.youtube.com/watch?v=gB6WLkSrtJk)\n",
    "\n",
    "Installation sur Mac OS : [Tutoriel](https://www.youtube.com/watch?v=MyIiM7z_j_Y)"
   ]
  },
  {
   "cell_type": "markdown",
   "id": "0094ac4f-7d68-4d60-93c5-f371df3bc3d7",
   "metadata": {
    "tags": []
   },
   "source": [
    "<h4>Extraction des données :</h4>\n",
    "\n",
    "Nous allons utiliser plusieurs bases de données pour notre projet disponibles sur les sites web suivantes : \n",
    "\n",
    "**OpenDataSoft** avec des API\n",
    "\n",
    "[INSEE - Indices des prix à la consommation, correction des valeurs saisonnières, inflation sous-jacente](\n",
    "https://public.opendatasoft.com/explore/dataset/economicref-france-indice-prix-consommation/table/?disjunctive.sous_type&disjunctive.population&disjunctive.zone&dataChart=eyJxdWVyaWVzIjpbeyJjb25maWciOnsiZGF0YXNldCI6ImVjb25vbWljcmVmLWZyYW5jZS1pbmRpY2UtcHJpeC1jb25zb21tYXRpb24iLCJvcHRpb25zIjp7ImRpc2p1bmN0aXZlLnNvdXNfdHlwZSI6dHJ1ZSwiZGlzanVuY3RpdmUucG9wdWxhdGlvbiI6dHJ1ZSwiZGlzanVuY3RpdmUuem9uZSI6dHJ1ZX19LCJjaGFydHMiOlt7ImFsaWduTW9udGgiOnRydWUsInR5cGUiOiJsaW5lIiwiZnVuYyI6IkFWRyIsInlBeGlzIjoidmFsZXVyIiwic2NpZW50aWZpY0Rpc3BsYXkiOnRydWUsImNvbG9yIjoiI0ZGNTE1QSJ9XSwieEF4aXMiOiJwZXJpb2RlIiwibWF4cG9pbnRzIjoiIiwidGltZXNjYWxlIjoieWVhciIsInNvcnQiOiIifV0sImRpc3BsYXlMZWdlbmQiOnRydWUsImFsaWduTW9udGgiOnRydWV9)\n",
    "\n",
    "[Nombre de demandeurs d'emploi par département - France](https://public.opendatasoft.com/explore/dataset/labouref-france-departement-quarter-jobseeker/table/?disjunctive.category&disjunctive.age_groups&disjunctive.reg_name&disjunctive.dep_area_code&disjunctive.dep_name&sort=date)\n",
    "\n",
    "**Statista**, fichier au format XLS\n",
    "\n",
    "[France: Inflation rate from 1987 to 2028 - XLS : (prévisions pour notre dernière partie)](https://www.statista.com/statistics/270353/inflation-rate-in-france/)\n",
    "\n",
    "**Open URSSAF** avec des API\n",
    "\n",
    "[Base de données de l’URSSAF](https://open.urssaf.fr/explore/?sort=modified&refine.theme=Observatoire+%C3%A9conomique&refine.theme=Observatoire+%C3%A9co+%2F+Embauches)\n",
    "\n",
    "**INSEE**, avec des fichiers au format CSV et XLS\n",
    "\n",
    "[Evolution du salaire](https://www.insee.fr/fr/information/3128533?INDICATEUR=3280709&qserie=salaire%20)\n",
    "\n",
    "[Indice prix à la consommation](https://www.insee.fr/fr/information/3128533?INDICATEUR=2238611+2238612+2238613+3280708) \n",
    "\n",
    "[Statistiques salaires, etc..](https://www.insee.fr/fr/statistiques?debut=0&theme=24&categorie=10)\n",
    "\n",
    "[Revenus, pouvoir d’achat, consommation](https://www.insee.fr/fr/statistiques?debut=0&theme=81+26+82+83+19+80&categorie=10)\n",
    "\n",
    "[L'essentiel sur le chômage](https://www.insee.fr/fr/statistiques/4805248#graphique-figure2_radio1)\n",
    "\n",
    "**Données Géolocalisation**\n",
    "\n",
    "[Donnes de géolocalisation pour les régions et les départements français](https://france-geojson.gregoiredavid.fr)"
   ]
  },
  {
   "cell_type": "markdown",
   "id": "92690999-b319-49bc-8062-cb298c6bda1c",
   "metadata": {},
   "source": [
    "___"
   ]
  },
  {
   "cell_type": "markdown",
   "id": "7e734513",
   "metadata": {},
   "source": [
    "Nous avons chronométré la durée pour exécuter la totalité du code.\n",
    "\n",
    "**Sur Jupyter Notebook** : environ 8 minutes\n",
    "\n",
    "**Sur VS Code** : environ 9 minutes"
   ]
  },
  {
   "cell_type": "markdown",
   "id": "11a18926-c1be-484b-be2b-79c5fbaaae99",
   "metadata": {},
   "source": [
    "____"
   ]
  },
  {
   "cell_type": "markdown",
   "id": "7532d53a-b411-4f6c-9e4a-b9cb87cb5987",
   "metadata": {
    "tags": []
   },
   "source": [
    "<h4>Stockage des données :</h4>\n",
    "\n",
    "Pour analyser et traiter des ensembles de données volumineux avec MongoDB, une structure flexible, offrant la capacité d'adaptation nécessaire pour gérer ces informations de manière efficace et évolutive."
   ]
  },
  {
   "cell_type": "markdown",
   "id": "4188a23a-c829-408e-ae22-e1622c0a8e3d",
   "metadata": {
    "tags": []
   },
   "source": [
    "**Initialisation de la connexion à la base de données MongoDB :**"
   ]
  },
  {
   "cell_type": "code",
   "execution_count": 3,
   "id": "b5a898ed-7de0-43c3-94d3-c0d884d62b55",
   "metadata": {
    "tags": []
   },
   "outputs": [],
   "source": [
    "hostname = 'localhost'\n",
    "port = 27017  # Default MongoDB port\n",
    "client = MongoClient(hostname, port)\n",
    "db = client['projet_Outils_Infos']"
   ]
  },
  {
   "cell_type": "markdown",
   "id": "04070128",
   "metadata": {
    "tags": []
   },
   "source": [
    "## **OpenDataSoft** avec des API\n",
    "\n",
    "**INSEE - Indices des prix à la consommation, correction des valeurs saisonnières, inflation sous-jacente**"
   ]
  },
  {
   "cell_type": "code",
   "execution_count": 4,
   "id": "308faa88-9fbc-4ff4-92ae-c1793db337df",
   "metadata": {
    "tags": []
   },
   "outputs": [],
   "source": [
    "common_URL = 'https://public.opendatasoft.com/api/explore/v2.1/catalog/datasets/'"
   ]
  },
  {
   "cell_type": "markdown",
   "id": "d9993a48-7cc5-40ee-b9c9-a0ff80985749",
   "metadata": {},
   "source": [
    "La fonction suivante permet de récupèrer des données depuis une API à partir de l'URL spécifiée, les insèrer dans une collection MongoDB, et gèrer la pagination pour récupérer l'ensemble des données. Elle prend en paramètres la base de données, le nom de la collection, l'URL de l'API, et une limite optionnelle pour le nombre d'éléments à récupérer à chaque requête. La récursivité est utilisée pour continuer la récupération jusqu'à la fin des données disponibles."
   ]
  },
  {
   "cell_type": "code",
   "execution_count": 5,
   "id": "73f7bb90-df17-482e-ad50-f1d15ca32136",
   "metadata": {
    "tags": []
   },
   "outputs": [],
   "source": [
    "def fetch_and_insert_data(db, collection_name, url, limit=100):\n",
    "    collection = db[collection_name]\n",
    "    offset = 0\n",
    "\n",
    "    def fetch_data_and_insert(offset):\n",
    "        payload = {'limit': limit, 'offset': offset}\n",
    "        response = requests.get(url, params=payload)\n",
    "\n",
    "        if response.status_code == 200:\n",
    "            data = response.json()\n",
    "\n",
    "            try:\n",
    "                collection.insert_many(data['results'])\n",
    "            except :\n",
    "                pass\n",
    "\n",
    "            if len(data['results']) < limit:\n",
    "                return\n",
    "            else:\n",
    "                fetch_data_and_insert(offset + limit)\n",
    "\n",
    "    fetch_data_and_insert(offset)"
   ]
  },
  {
   "cell_type": "markdown",
   "id": "a0822e79-ac5b-431a-9394-4a07c6126498",
   "metadata": {},
   "source": [
    "EFIPC est l'abréviation de \"economicref-france-indice-prix-consommation\""
   ]
  },
  {
   "cell_type": "markdown",
   "id": "ce0d4ac8-76b5-4113-aed7-c12dbe515581",
   "metadata": {},
   "source": [
    "Nous effectuons une double boucle sur les années (years) et les zones géographiques (zones). À chaque itération, le script construit une URL spécifique pour récupérer les données d'un indicateur économique (indice des prix à la consommation) pour une année et une zone données. Ensuite, il utilise la fonction `fetch_and_insert_data` pour récupérer ces données depuis l'API correspondante et les insérer dans une collection MongoDB nommée \"EFIPC\". Ainsi, le script permet de collecter des informations sur l'indice des prix à la consommation pour différentes années et zones géographiques."
   ]
  },
  {
   "cell_type": "code",
   "execution_count": null,
   "id": "e23fb9ee",
   "metadata": {
    "tags": []
   },
   "outputs": [],
   "source": [
    "years = [\"2017\", \"2018\", \"2019\",\"2020\",\"2021\",\"2022\",\"2023\"]\n",
    "zones = [\"France\", \"Guadeloupe\", \"La réunion\", \"Martinique\", \"Guyane\", \"Mayotte\"]\n",
    "\n",
    "for year in years:\n",
    "    for zone in zones:\n",
    "        EFIPC_url = f\"{common_URL}economicref-france-indice-prix-consommation/records?select=periode%2Cvaleur&refine=zone%3A\\\"{zone}\\\"&refine=periode%3A\\\"{year}\\\"\"\n",
    "        fetch_and_insert_data(db, \"EFIPC\", EFIPC_url)"
   ]
  },
  {
   "cell_type": "code",
   "execution_count": null,
   "id": "6f5a23ce",
   "metadata": {
    "tags": []
   },
   "outputs": [],
   "source": [
    "EFIPC = db.EFIPC.find()\n",
    "EFIPC = pd.DataFrame(EFIPC)\n",
    "columns_to_drop = ['_id']\n",
    "EFIPC = EFIPC.drop(columns=columns_to_drop, axis=1)\n",
    "EFIPC.head()"
   ]
  },
  {
   "cell_type": "markdown",
   "id": "fc1eb593",
   "metadata": {},
   "source": [
    "**Nombre de demandeurs d'emploi par département et région - France**"
   ]
  },
  {
   "cell_type": "markdown",
   "id": "5d8598f1-9a3a-4bb6-ac12-fc467d02e3df",
   "metadata": {
    "tags": []
   },
   "source": [
    "Nous utilisons le même mécanisme pour récupérer les données sur le nombre de demandeurs d'emploi en France."
   ]
  },
  {
   "cell_type": "code",
   "execution_count": null,
   "id": "45dbdb91",
   "metadata": {
    "tags": []
   },
   "outputs": [],
   "source": [
    "years = [\"2017\", \"2018\", \"2019\",\"2020\",\"2021\",\"2022\",\"2023\"]\n",
    "\n",
    "for year in years:\n",
    "    emploi_url = f\"{common_URL}labouref-france-departement-quarter-jobseeker/records?select=quarter%2Creg_name%2Cdep_name%2Cnb_jobseeker&refine=quarter%3A\\\"{year}\\\"\"\n",
    "    fetch_and_insert_data(db, \"emploi\", emploi_url)"
   ]
  },
  {
   "cell_type": "markdown",
   "id": "9218c2e6-e48b-421f-99c5-4b989e171028",
   "metadata": {},
   "source": [
    "Ensuite, nous récupérons les données de la collection MongoDB \"emploi\" et les stockons dans une variable appelée `emploi`. Nous convertissons les données MongoDB, initialement sous forme de dictionnaires, en un DataFrame pandas pour faciliter la manipulation. En définissant une liste de noms de colonnes à supprimer, nous éliminons la colonne `_id` du DataFrame `emploi`. Les colonnes du DataFrame sont renommées pour les rendre plus explicites. En utilisant la méthode split, nous divisons la colonne \"Année\" en deux parties (avant et après le tiret) et extrayons la deuxième partie dans une nouvelle colonne `Trimestres_année`. Nous extrayons la première partie de la colonne \"Année\" et la réassignons à la colonne \"Année\". Enfin, nous réorganisons l'ordre des colonnes dans le DataFrame pour placer `Année` en premier, suivi de `Trimestres_année`, `Demandeur_emploi`, `Région`et `Départemen`. Les premières lignes du DataFrame après ces transformations sont ensuite affichées."
   ]
  },
  {
   "cell_type": "code",
   "execution_count": null,
   "id": "19611bc4",
   "metadata": {
    "tags": []
   },
   "outputs": [],
   "source": [
    "emploi = db.emploi.find()\n",
    "emploi = pd.DataFrame(emploi)\n",
    "columns_to_drop = ['_id']\n",
    "emploi = emploi.drop(columns=columns_to_drop, axis=1)\n",
    "emploi = emploi.rename(columns={'quarter':'Année', 'nb_jobseeker':'Demandeur_emploi','reg_name':'Région','dep_name':'Département'})\n",
    "emploi['Trimestres_année'] = emploi['Année'].str.split('-', expand=True)[1]\n",
    "emploi['Année'] = emploi['Année'].str.split('-', expand=True)[0]\n",
    "emploi = emploi[['Année', 'Trimestres_année', 'Demandeur_emploi', 'Région', 'Département']]\n",
    "emploi.head()"
   ]
  },
  {
   "cell_type": "markdown",
   "id": "8f85e2ea-855f-4240-ab6e-a722b5baa83b",
   "metadata": {},
   "source": [
    "Nous souhaitons remplacer les données existantes dans la collection 'emploi' par cette nouvelle version. Il faudra donc supprimer les données existantes et ajouter la nouvelle version des données."
   ]
  },
  {
   "cell_type": "code",
   "execution_count": null,
   "id": "d6c8fa69",
   "metadata": {
    "tags": []
   },
   "outputs": [],
   "source": [
    "emploi_dict_list = emploi.to_dict(orient='records')\n",
    "db.emploi.delete_many({})\n",
    "original_stdout = sys.stdout\n",
    "sys.stdout = None\n",
    "db.emploi.insert_many(emploi_dict_list, ordered=False)\n",
    "sys.stdout = original_stdout"
   ]
  },
  {
   "cell_type": "markdown",
   "id": "4b999fd3-c168-416d-98a6-6f622847e589",
   "metadata": {
    "tags": []
   },
   "source": [
    "___"
   ]
  },
  {
   "cell_type": "markdown",
   "id": "919afd50",
   "metadata": {
    "tags": []
   },
   "source": [
    "## **Statista, fichier au format XLS**"
   ]
  },
  {
   "cell_type": "markdown",
   "id": "3394db68-cd76-48f9-8485-5d873270f01d",
   "metadata": {
    "tags": []
   },
   "source": [
    "Inflation par an en pourcentage en France"
   ]
  },
  {
   "cell_type": "markdown",
   "id": "1efe9487-ec47-4bcf-93b2-4e2b3b73c27c",
   "metadata": {},
   "source": [
    "Nous allons extraire ces données à partir d'un lien URL."
   ]
  },
  {
   "cell_type": "code",
   "execution_count": null,
   "id": "6864fab3",
   "metadata": {
    "tags": []
   },
   "outputs": [],
   "source": [
    "url_inflation_rate = 'https://docs.google.com/spreadsheets/d/1arnCOlKiCZxKwsMeKhUj5c_0uWksqer_/export?format=xlsx'\n",
    "inflation_rate = pd.read_excel(url_inflation_rate)\n",
    "inflation_rate.head()"
   ]
  },
  {
   "cell_type": "markdown",
   "id": "dccbd2aa",
   "metadata": {},
   "source": [
    "Drop les colonnes inutiles"
   ]
  },
  {
   "cell_type": "code",
   "execution_count": null,
   "id": "2e9c67e8",
   "metadata": {
    "tags": []
   },
   "outputs": [],
   "source": [
    "inflation_rate = inflation_rate.drop(columns={'Unnamed: 0','Unnamed: 3'},axis=1)\n",
    "inflation_rate = inflation_rate.drop(index=0)\n",
    "inflation_rate = inflation_rate.rename(columns={'Inflation rate in France 2028':'Année', 'Unnamed: 2':\"taux_d'inflation\"})\n",
    "inflation_rate.head() "
   ]
  },
  {
   "cell_type": "markdown",
   "id": "9a7493e9-1bc9-4423-a226-d3bd56782e95",
   "metadata": {},
   "source": [
    "Le code effectue plusieurs opérations sur le DataFrame ```inflation_rate```. Tout d'abord, il supprime les colonnes ```Unnamed: 0\" et \"Unnamed: 3``` afin de nettoyer le jeu de données. Ensuite, la première ligne du DataFrame est supprimée, ce qui peut être nécessaire pour éliminer des informations non pertinentes ou des en-têtes incorrects. Les colonnes sont ensuite renommées pour améliorer leur clarté : ```Inflation rate in France 2028``` devient ```Année``` et ```Unnamed: 2``` est renommée en ```taux_d'inflation```. Enfin, le résultat de ces transformations est affiché, montrant les premières lignes du DataFrame modifié. Ces étapes visent à préparer les données de manière plus lisible et significative."
   ]
  },
  {
   "cell_type": "code",
   "execution_count": null,
   "id": "20be084f",
   "metadata": {
    "tags": []
   },
   "outputs": [],
   "source": [
    "inflation_rate['Année'] = inflation_rate['Année'].astype(str).str.replace('*', '').astype(int)\n",
    "inflation = inflation_rate[(inflation_rate['Année'] >= 2017) & (inflation_rate['Année'] <= 2022)]\n",
    "inflation"
   ]
  },
  {
   "cell_type": "markdown",
   "id": "25559fc3-40c3-4bb0-ae1a-b1539894ee86",
   "metadata": {},
   "source": [
    "On convertit la colonne 'Année' en chaîne de caractères, on retire les étoiles ('') le cas échéant, puis on convertit le résultat en entier. Cette séquence d'opérations garantit que la colonne 'Année' ne contient que des valeurs numériques. Ensuite, les données sont filtrées pour inclure uniquement les lignes où l'année est comprise entre 2017 et 2022 (inclus). Le résultat de cette opération crée un nouveau DataFrame appelé \"inflation\", qui contient exclusivement les données pour cette plage d'années. Ce processus contribue à restreindre l'analyse aux années spécifiées, facilitant ainsi une exploration plus ciblée des données."
   ]
  },
  {
   "cell_type": "markdown",
   "id": "ee5276a8-be1c-482a-b182-d89846b16e73",
   "metadata": {},
   "source": [
    "Ensuite on filtre pour inclure uniquement celles dont l'année est comprise entre 2023 et 2028."
   ]
  },
  {
   "cell_type": "code",
   "execution_count": null,
   "id": "da85e583-9ae7-405e-bcb0-b0ca46c23bac",
   "metadata": {
    "tags": []
   },
   "outputs": [],
   "source": [
    "inflation_prediction = inflation_rate[(inflation_rate['Année'] >= 2023) & (inflation_rate['Année'] <= 2028)]\n",
    "inflation_prediction"
   ]
  },
  {
   "cell_type": "markdown",
   "id": "359ad89d-41bf-4aaa-b689-06566982586f",
   "metadata": {},
   "source": [
    "On stocke ces données dans deux collections distinctes ```inflation```et ```inflation_prediction```dans la base de données."
   ]
  },
  {
   "cell_type": "code",
   "execution_count": null,
   "id": "becbf0d5",
   "metadata": {
    "tags": []
   },
   "outputs": [],
   "source": [
    "documents = inflation.to_dict(orient='records')\n",
    "collection = db['inflation']\n",
    "collection.insert_many(documents);"
   ]
  },
  {
   "cell_type": "code",
   "execution_count": null,
   "id": "445c8321",
   "metadata": {
    "tags": []
   },
   "outputs": [],
   "source": [
    "documents = inflation_prediction.to_dict(orient='records')\n",
    "collection = db['inflation_prediction']\n",
    "collection.insert_many(documents);"
   ]
  },
  {
   "cell_type": "markdown",
   "id": "19971792-9880-4bc0-b389-48da4b250d3a",
   "metadata": {
    "tags": []
   },
   "source": [
    "___"
   ]
  },
  {
   "cell_type": "markdown",
   "id": "72e55ef6",
   "metadata": {
    "tags": []
   },
   "source": [
    "## **Open URSSAF avec des API**"
   ]
  },
  {
   "cell_type": "markdown",
   "id": "739b14db",
   "metadata": {},
   "source": [
    "**Déclarations préalables à l'embauche mensuelles de plus d'un mois, par région**"
   ]
  },
  {
   "cell_type": "code",
   "execution_count": null,
   "id": "5dd30729",
   "metadata": {
    "tags": []
   },
   "outputs": [],
   "source": [
    "common_URL = 'https://open.urssaf.fr/api/explore/v2.1/catalog/datasets/'"
   ]
  },
  {
   "cell_type": "markdown",
   "id": "ed804bf2",
   "metadata": {},
   "source": [
    "DPALE_reg_grandsect est l'abréviation de \"Déclarations préalables à l'embauche par région\""
   ]
  },
  {
   "cell_type": "code",
   "execution_count": null,
   "id": "01f90072-31ee-4ac8-b0e0-4b5ac3235afb",
   "metadata": {
    "tags": []
   },
   "outputs": [],
   "source": [
    "years = [\"2017\", \"2018\", \"2019\",\"2020\",\"2021\",\"2022\",\"2023\"]\n",
    "\n",
    "for year in years:\n",
    "    DPALE_reg_url = f\"{common_URL}dpae-par-departement-x-grand-secteur/records?select=annee%2C%20region%2C%20trimestre%2C%20nature_de_contrat%2C%20duree_de_contrat%2C%20dpae_cvs&refine=annee%3A%22{year}%22\"\n",
    "    fetch_and_insert_data(db, \"DPALE_reg\", DPALE_reg_url)"
   ]
  },
  {
   "cell_type": "markdown",
   "id": "0e6cf46a-3665-4695-b60a-dc974f3c5f5c",
   "metadata": {},
   "source": [
    "On supprime les colonnes \"Unnamed: 0\" et \"Unnamed: 3\" du DataFrame \"inflation_rate\". On supprime la première ligne du DataFrame \"inflation_rate\". Cela peut être utile si la première ligne contient des informations non pertinentes ou s'il s'agit d'un en-tête incorrect. On renomme les colonnes pour les rendre plus explicites. La colonne \"Inflation rate in France 2028\" est renommée en \"Année\" et \"Unnamed: 2\" est renommée en \"taux_d'inflation\". Finalement, on affiche les premières lignes du DataFrame \"inflation_rate\" après les transformations. "
   ]
  },
  {
   "cell_type": "code",
   "execution_count": null,
   "id": "e82e6d9a",
   "metadata": {
    "tags": []
   },
   "outputs": [],
   "source": [
    "DPALE_reg = db.DPALE_reg.find()\n",
    "DPALE_reg = pd.DataFrame(DPALE_reg)\n",
    "DPALE_reg = DPALE_reg.drop('_id',axis=1)\n",
    "DPALE_reg = DPALE_reg.rename(columns={'region':'Region', 'trimestre':'Trimestre','duree_de_contrat':'Duree_de_contrat','dpae_cvs':'Dpae_cvs'})\n",
    "DPALE_reg.head()"
   ]
  },
  {
   "cell_type": "code",
   "execution_count": null,
   "id": "85005e42-8823-47f9-b85d-1f970d17aab3",
   "metadata": {
    "tags": []
   },
   "outputs": [],
   "source": [
    "DPALE_reg_url_dict_list = DPALE_reg.to_dict(orient='records')\n",
    "db.DPALE_reg.delete_many({})\n",
    "original_stdout = sys.stdout\n",
    "sys.stdout = None\n",
    "db.DPALE_reg.insert_many(DPALE_reg_url_dict_list, ordered=False)\n",
    "sys.stdout = original_stdout"
   ]
  },
  {
   "cell_type": "markdown",
   "id": "5798fb69-6664-4b35-aadf-196bdeb90ce7",
   "metadata": {
    "tags": []
   },
   "source": [
    "**Déclarations préalables à l'embauche par an, par sexe x âge**"
   ]
  },
  {
   "cell_type": "markdown",
   "id": "73443132",
   "metadata": {},
   "source": [
    "DPALE_sexe_age est l'abréviation de \"Déclarations préalables à l'embauche par an, par sexe x âge\""
   ]
  },
  {
   "cell_type": "markdown",
   "id": "58fe40a5-f8ce-459a-83fb-33c77308a8dd",
   "metadata": {},
   "source": [
    "De la même façon que précédemment pour les données issues des API, nous utilisons la fonction fetch_and_insert_data :"
   ]
  },
  {
   "cell_type": "code",
   "execution_count": null,
   "id": "f7167caf",
   "metadata": {
    "tags": []
   },
   "outputs": [],
   "source": [
    "years = [\"2017\", \"2018\", \"2019\",\"2020\",\"2021\",\"2022\",\"2023\"]\n",
    "\n",
    "for year in years:\n",
    "    DPALE_sexe_age_url = f\"{common_URL}dpae-annuelles-sexe-age/records?select=annee%2C%20libelle_de_l_age%2C%20libelle_du_sexe%2C%20dpae_brut&refine=annee%3A%22{year}%22\"\n",
    "    fetch_and_insert_data(db, \"DPALE_sexe_age\", DPALE_sexe_age_url)"
   ]
  },
  {
   "cell_type": "markdown",
   "id": "2a42a526-996c-428a-93e9-94549f32d39f",
   "metadata": {},
   "source": [
    "Par la suite, nous récupérons les données de la collection MongoDB `DPALE_reg` et les stockons dans une variable nommée `DPALE_reg`. Ensuite, nous convertissons les données MongoDB, initialement sous forme de dictionnaires, en un DataFrame pandas. Nous supprimons la colonne `_id` du DataFrame `DPALE_reg`. Pour rendre les noms des colonnes plus explicites, nous les renommons, modifiant ainsi les noms des colonnes `region`, `trimestre`, `duree_de_contrat` et `dpae_cvs` respectivement en `Region`, `Trimestre`, `Duree_de_contrat` et `Dpae_cvs`."
   ]
  },
  {
   "cell_type": "code",
   "execution_count": null,
   "id": "0f1d9de2",
   "metadata": {
    "tags": []
   },
   "outputs": [],
   "source": [
    "DPALE_sexe_age = db.DPALE_sexe_age.find()\n",
    "DPALE_sexe_age = pd.DataFrame(DPALE_sexe_age)\n",
    "DPALE_sexe_age = DPALE_sexe_age.drop('_id',axis=1)\n",
    "DPALE_sexe_age = DPALE_sexe_age.rename(columns={'annee':'Année', 'libelle_de_l_age':'Libelle_de_l_age','libelle_du_sexe':'Libelle_du_sexe','dpae_brut':'Dpae_brut'})\n",
    "DPALE_sexe_age.head()"
   ]
  },
  {
   "cell_type": "markdown",
   "id": "961d2f9f-e3b0-4fbc-bd98-20c840f441a4",
   "metadata": {},
   "source": [
    "Nous supprimons à nouveau les données existantes afin d'introduire la nouvelle version des données dans le format souhaité."
   ]
  },
  {
   "cell_type": "code",
   "execution_count": null,
   "id": "09905d65-0d49-4e12-88d3-1511149fdba0",
   "metadata": {
    "tags": []
   },
   "outputs": [],
   "source": [
    "DPALE_sexe_age_dict_list = DPALE_sexe_age.to_dict(orient='records')\n",
    "db.DPALE_sexe_age.delete_many({})\n",
    "original_stdout = sys.stdout\n",
    "sys.stdout = None\n",
    "db.DPALE_sexe_age.insert_many(DPALE_sexe_age_dict_list, ordered=False)\n",
    "sys.stdout = original_stdout"
   ]
  },
  {
   "cell_type": "markdown",
   "id": "d793a9b1-576c-40eb-83e2-9a4612d7aec7",
   "metadata": {},
   "source": [
    "___"
   ]
  },
  {
   "cell_type": "markdown",
   "id": "2047c5f7",
   "metadata": {
    "tags": []
   },
   "source": [
    "## **INSEE**, avec des fichiers au format CSV et XLS"
   ]
  },
  {
   "cell_type": "markdown",
   "id": "906d657b-1df2-46ba-97df-7df8bb873e8d",
   "metadata": {},
   "source": [
    "Fonction qui télécharge un fichier CSV en utilisant une URL, applique des transformations sur les données, renomme les colonnes selon une liste donnée, exclut la colonne commune à tous les DataFrames ('Codes'), insère les données dans une collection MongoDB spécifiée, et retourne le DataFrame résultant : "
   ]
  },
  {
   "cell_type": "code",
   "execution_count": null,
   "id": "f0a3f6d1-d0c7-40af-82d7-43c5ce6df1df",
   "metadata": {
    "tags": []
   },
   "outputs": [],
   "source": [
    "def process_and_upload_data(file_id, new_column_names, dataframe_name):\n",
    "    file_url = f'https://drive.google.com/uc?id={file_id}' # URL du fichier csv\n",
    "    response = requests.get(file_url) # Téléchargement du fichier\n",
    "    data = BytesIO(response.content)\n",
    "    df = pd.read_csv(data, sep=';')\n",
    "    df = df.drop(index=[0, 1, 2])\n",
    "    df = df.drop(columns=['Codes'], axis=1)\n",
    "    df = df.reset_index(drop=True)\n",
    "    column_mapping = {old_name: new_name for old_name, new_name in zip(df.columns, new_column_names)}\n",
    "    df = df.rename(columns=column_mapping)\n",
    "    documents = df.to_dict(orient='records')\n",
    "    collection = db[dataframe_name]\n",
    "    collection.insert_many(documents)\n",
    "    return df"
   ]
  },
  {
   "cell_type": "markdown",
   "id": "d5b73380-1091-48a3-b897-62243261e4b0",
   "metadata": {
    "tags": []
   },
   "source": [
    "### Evolution du salaire"
   ]
  },
  {
   "cell_type": "markdown",
   "id": "b5cc0b69-50e9-4fda-b2cd-51e41706ae36",
   "metadata": {},
   "source": [
    "evolution_salaire_h représente \"L'Évolution du salaire net annuel moyen des postes à temps complet dans le secteur privé pour les hommes\""
   ]
  },
  {
   "cell_type": "code",
   "execution_count": null,
   "id": "eac8af04-d0fd-4fd2-ab9c-399eba4492a2",
   "metadata": {
    "tags": []
   },
   "outputs": [],
   "source": [
    "file_id = '1NENgwf-BSl5PQXcy6DA-T6GjtGSUC7UH'\n",
    "new_column_names = ['Année', 'Evolution_salaire']\n",
    "dataframe_name = 'evolution_salaire_homme'\n",
    "evolution_salaire_h = process_and_upload_data(file_id, new_column_names, dataframe_name)\n",
    "evolution_salaire_h"
   ]
  },
  {
   "cell_type": "markdown",
   "id": "2ae9756b-5306-4ced-b3ab-3fc1257961d6",
   "metadata": {},
   "source": [
    "evolution_salaire_f représente \"L'Évolution du salaire net annuel moyen des postes à temps complet dans le secteur privé pour les femmes\""
   ]
  },
  {
   "cell_type": "code",
   "execution_count": null,
   "id": "b94bc335-e40d-4854-b2d2-0a13d49330a2",
   "metadata": {
    "tags": []
   },
   "outputs": [],
   "source": [
    "file_id = '1EJPzxwq5pFBBz2aRsOoOP1JTr0oGkIbn'\n",
    "new_column_names = ['Année', 'Evolution_salaire']\n",
    "dataframe_name = 'evolution_salaire_femme'\n",
    "evolution_salaire_f = process_and_upload_data(file_id, new_column_names, dataframe_name)\n",
    "evolution_salaire_f.head()"
   ]
  },
  {
   "cell_type": "markdown",
   "id": "52e250af-8dee-47c7-85a8-8986cc50b24e",
   "metadata": {},
   "source": [
    "evolution_salaire représente \"Evolution des valeurs du salaire annuelles\""
   ]
  },
  {
   "cell_type": "code",
   "execution_count": null,
   "id": "4604a840-28b2-4684-8a12-b3622ab2be69",
   "metadata": {
    "tags": []
   },
   "outputs": [],
   "source": [
    "file_id = '1ttPKWR75VJ4Ak88B_yoWh06w6ousTpWW'\n",
    "new_column_names = ['Année', 'Evolution_salaire']\n",
    "dataframe_name = 'evolution_salaire'\n",
    "evolution_salaire = process_and_upload_data(file_id, new_column_names, dataframe_name)\n",
    "evolution_salaire.head()"
   ]
  },
  {
   "cell_type": "markdown",
   "id": "4a56df5e-a438-4fa8-a60b-6d664a9333dd",
   "metadata": {
    "tags": []
   },
   "source": [
    "____"
   ]
  },
  {
   "cell_type": "markdown",
   "id": "e986f8ce-cc5f-4100-a802-c53f3ec71a7a",
   "metadata": {},
   "source": [
    "### Indice prix à la consommation"
   ]
  },
  {
   "cell_type": "code",
   "execution_count": null,
   "id": "3179c1d0-2470-42d1-9d87-f92094bb554f",
   "metadata": {
    "tags": []
   },
   "outputs": [],
   "source": [
    "file_id = '1hpUlChYuGxqAmX2IXVxt8HTykRL_zPW8'\n",
    "new_column_names = ['Année-Trimestre', 'Indice_cout_travail']\n",
    "dataframe_name = 'indice_cout'\n",
    "indice_cout_travail = process_and_upload_data(file_id, new_column_names, dataframe_name)\n",
    "indice_cout_travail['Année-Trimestre'] = indice_cout_travail['Année-Trimestre'].str.extract('(\\d{4})')\n",
    "indice_cout_travail = indice_cout_travail.rename(columns={'Année-Trimestre':'Année'})\n",
    "indice_cout_travail.head()"
   ]
  },
  {
   "cell_type": "markdown",
   "id": "349fab10-345b-4736-b582-415d1ff091e0",
   "metadata": {},
   "source": [
    "Nous souhaitons modifier la base de données```indice_cout_travail``` et insérer cette nouvelle version. Pour ce faire, il faut supprimer les données existantes dans la base et y ajouter la nouvelle version."
   ]
  },
  {
   "cell_type": "code",
   "execution_count": null,
   "id": "321c970d-f8bd-4f9c-a5c5-c36d7cf8ae5f",
   "metadata": {
    "tags": []
   },
   "outputs": [],
   "source": [
    "documents = indice_cout_travail.to_dict(orient='records')\n",
    "db.indice_cout.delete_many({})\n",
    "original_stdout = sys.stdout\n",
    "sys.stdout = None\n",
    "db.indice_cout.insert_many(documents, ordered=False)\n",
    "sys.stdout = original_stdout"
   ]
  },
  {
   "cell_type": "markdown",
   "id": "f2425c36-a324-4f21-9962-2bce770c5b1d",
   "metadata": {
    "tags": []
   },
   "source": [
    "___"
   ]
  },
  {
   "cell_type": "markdown",
   "id": "73c9d6d4",
   "metadata": {},
   "source": [
    "### Consommation"
   ]
  },
  {
   "cell_type": "markdown",
   "id": "3926f942-483c-427b-b6b6-5b91c84888a1",
   "metadata": {},
   "source": [
    "**Consommation Alimentaire**"
   ]
  },
  {
   "cell_type": "markdown",
   "id": "49712b98-e767-40f7-ba01-88fc7643a7fb",
   "metadata": {
    "tags": []
   },
   "source": [
    "Consommation mensuelle des ménages en biens - Alimentaire hors tabac - Volumes aux prix de l'année précédente, chaînés depuis 2014"
   ]
  },
  {
   "cell_type": "code",
   "execution_count": null,
   "id": "e1a16aa2-06a8-4d88-9bf4-695d031b877f",
   "metadata": {
    "tags": []
   },
   "outputs": [],
   "source": [
    "file_id = '16ExH-HhuX4YqqPTvWQRF3bpJgu8Q74vj'\n",
    "new_column_names = ['Année-Mois', 'Consommation_Alimentaire']\n",
    "dataframe_name = 'alimentation_consommation'\n",
    "alimentaire_conso = process_and_upload_data(file_id, new_column_names, dataframe_name)\n",
    "alimentaire_conso.head()"
   ]
  },
  {
   "cell_type": "markdown",
   "id": "cb1674f8-44de-4576-beba-93a357ce19e5",
   "metadata": {
    "tags": []
   },
   "source": [
    "**Consommation mensuelle des ménages en biens - Énergie, eau, déchets, cokéfaction et raffinage**"
   ]
  },
  {
   "cell_type": "markdown",
   "id": "4a57e75b-903e-438a-872e-121273c5a120",
   "metadata": {},
   "source": [
    "Consommation mensuelle des ménages en biens - Énergie, eau, déchets, cokéfaction et raffinage - Volumes aux prix de l'année précédente, chaînés depuis 2014"
   ]
  },
  {
   "cell_type": "code",
   "execution_count": null,
   "id": "fdfee5b9-f41c-4eef-8450-bf12075c64e5",
   "metadata": {
    "tags": []
   },
   "outputs": [],
   "source": [
    "file_id = '1kLiF9MjiObiL_XZ-6k7f671guChadCvI'\n",
    "new_column_names = ['Année-Mois', 'Consommation_Energie']\n",
    "dataframe_name = 'energie_consommation'\n",
    "energie_conso = process_and_upload_data(file_id, new_column_names, dataframe_name)\n",
    "energie_conso.head()"
   ]
  },
  {
   "cell_type": "markdown",
   "id": "ed191dad",
   "metadata": {},
   "source": [
    "___"
   ]
  },
  {
   "cell_type": "markdown",
   "id": "fcdc4b0b",
   "metadata": {},
   "source": [
    "### L'essentiel sur le chômage"
   ]
  },
  {
   "cell_type": "markdown",
   "id": "3471822e-510f-4617-948a-106ef012fcda",
   "metadata": {},
   "source": [
    "Nous allons modifier manuelle les donnes disponibles sur le chomage (au lieu d'utiliser la fonction) car cet données ne sont organises de la meme fcon que les CVS, ces donnes se trouvent dans un fichier XLSX. \n",
    "\n",
    "Le code récupère des données sur le taux de chômage depuis une URL, effectue des transformations sur ces données pour les adapter, notamment en extrayant l'année et le trimestre à partir de la colonne \"Trimestre\". Ensuite, il sélectionne les colonnes pertinentes et filtre les données à partir de l'année 2017."
   ]
  },
  {
   "cell_type": "code",
   "execution_count": null,
   "id": "dc8e4424",
   "metadata": {
    "tags": []
   },
   "outputs": [],
   "source": [
    "url_chomage_datas = 'https://docs.google.com/spreadsheets/d/1XYayObiBGyPAhsMtWT45fHkuGH3oVVJJ/export?format=xlsx'\n",
    "chomage = pd.read_excel(url_chomage_datas, skiprows=3)\n",
    "chomage = chomage.drop(chomage.columns[2], axis=1)\n",
    "chomage = chomage.iloc[:-4]\n",
    "chomage['Trimestre_année'] = chomage['Trimestre'].str.split('-', expand=True)[1]\n",
    "chomage['Année'] = chomage['Trimestre'].str.extract('(\\d{4})')\n",
    "chomage = chomage.drop('Trimestre', axis=1)\n",
    "chomage = chomage[['Année', 'Trimestre_année', 'France (hors Mayotte)']]\n",
    "chomage = chomage.reset_index(drop=True)\n",
    "chomage['Année'] = pd.to_numeric(chomage['Année'])\n",
    "chomage = chomage[::-1]\n",
    "chomage = chomage[chomage['Année'] >= 2017]\n",
    "chomage = chomage.reset_index(drop=True)\n",
    "chomage.head()"
   ]
  },
  {
   "cell_type": "markdown",
   "id": "e70e94af-84a2-4998-bf12-8e3bbb24cd79",
   "metadata": {
    "tags": []
   },
   "source": [
    "Le code extrait les données du DataFrame chomage et les convertit en une liste de dictionnaires, où chaque dictionnaire représente une ligne du DataFrame. On ensere ces données dans une collection mongodb qui porte le nom 'chomage'."
   ]
  },
  {
   "cell_type": "code",
   "execution_count": null,
   "id": "3bfefe73",
   "metadata": {
    "tags": []
   },
   "outputs": [],
   "source": [
    "documents = chomage.to_dict(orient='records')\n",
    "collection = db['chomage']\n",
    "collection.insert_many(documents);"
   ]
  },
  {
   "cell_type": "markdown",
   "id": "17f69a12",
   "metadata": {},
   "source": [
    "**Le chomage par département**"
   ]
  },
  {
   "cell_type": "markdown",
   "id": "74905cd8-ea65-45a2-99ff-4f469a288bf5",
   "metadata": {},
   "source": [
    "Pour les données du taux de chômage par département en fonction du trimestre et de l'année, nous téléchargeons les données dans un premier temps et les traitons à partir du lien URL en utilisant la fonction ```process_and_upload_data```. Nous effectuons des opérations de nettoyage, de renommage et de conversion des colonnes. Nous extrayons l'année et le trimestre, filtrons les données à partir de 2017, puis réorganisons les colonnes."
   ]
  },
  {
   "cell_type": "code",
   "execution_count": null,
   "id": "19828149",
   "metadata": {
    "tags": []
   },
   "outputs": [],
   "source": [
    "file_id = '1kKl9YsJqhu3iCgWF2ZV4IbDRgEWg_ZIB'\n",
    "new_column_names = ['Année']\n",
    "dataframe_name = 'taux_chomage_departements'\n",
    "taux_chomage_departements = process_and_upload_data(file_id, new_column_names, dataframe_name)\n",
    "taux_chomage_departements = taux_chomage_departements.filter(regex='^(?!.*Codes)')\n",
    "taux_chomage_departements.columns = taux_chomage_departements.columns.to_series().apply(lambda x: x.split('-', 1)[-1].strip().replace(\" \", \"_\"))\n",
    "taux_chomage_departements[['Année', 'Trimestre']] = taux_chomage_departements['Année'].str.extract(r'(\\d{4})-(T\\d)')\n",
    "colonnes_a_convertir = [colonne for colonne in taux_chomage_departements.columns if colonne != 'Trimestre' and colonne != 'Année']\n",
    "taux_chomage_departements[colonnes_a_convertir] = taux_chomage_departements[colonnes_a_convertir].astype(float)\n",
    "taux_chomage_departements['Année'] = taux_chomage_departements['Année'].astype(int)\n",
    "taux_chomage_departements = taux_chomage_departements[taux_chomage_departements['Année'] > 2016]\n",
    "nouvel_ordre_colonnes = ['Année', 'Trimestre'] + [col for col in taux_chomage_departements.columns if col not in ['Année', 'Trimestre']]\n",
    "taux_chomage_departements = taux_chomage_departements[nouvel_ordre_colonnes]\n",
    "taux_chomage_departements.head()"
   ]
  },
  {
   "cell_type": "markdown",
   "id": "c8b753ef-6e0d-4107-a13e-3c83bb64092b",
   "metadata": {},
   "source": [
    "Nous souhaitons modifier la base de données ```taux_chomage_departements``` et insérer cette nouvelle version obtenue apres le traitement de ces données. Pour ce faire, il faut supprimer les données existantes dans la base et y ajouter la nouvelle version."
   ]
  },
  {
   "cell_type": "code",
   "execution_count": null,
   "id": "21ba6710",
   "metadata": {
    "tags": []
   },
   "outputs": [],
   "source": [
    "documents = taux_chomage_departements.to_dict(orient='records')\n",
    "db.taux_chomage_departements.delete_many({})\n",
    "original_stdout = sys.stdout\n",
    "sys.stdout = None\n",
    "db.taux_chomage_departements.insert_many(documents, ordered=False)\n",
    "sys.stdout = original_stdout"
   ]
  },
  {
   "cell_type": "markdown",
   "id": "ced634d0-3c22-4685-8a9c-e81a33c2173e",
   "metadata": {
    "tags": []
   },
   "source": [
    "## **Données Géolocalisation**"
   ]
  },
  {
   "cell_type": "markdown",
   "id": "553c5740-984e-4f6d-80c5-126ad2da0f45",
   "metadata": {},
   "source": [
    "Nous allons récupérer les données de géolocalisation sans nécessité de traitement ni de modification."
   ]
  },
  {
   "cell_type": "markdown",
   "id": "5b3c6ba4-b63b-46e3-99c8-e2e91603e5c4",
   "metadata": {
    "tags": []
   },
   "source": [
    "Pour les régions françaises : "
   ]
  },
  {
   "cell_type": "code",
   "execution_count": null,
   "id": "5a686d4b-201d-4c06-b558-4d3007d95065",
   "metadata": {
    "tags": []
   },
   "outputs": [],
   "source": [
    "url = 'https://drive.google.com/uc?id=1_bKCQYlMiU-lJMgLvFOvfBqgHH2IQD_p&export=download'\n",
    "régions = gpd.read_file(url)\n",
    "régions = régions.drop('code',axis=1)\n",
    "régions.head()"
   ]
  },
  {
   "cell_type": "markdown",
   "id": "0b417797-6ce5-414f-b365-eac52454998c",
   "metadata": {
    "tags": []
   },
   "source": [
    "Pour les départements français :"
   ]
  },
  {
   "cell_type": "code",
   "execution_count": null,
   "id": "742b4816-bb69-43cc-a1ad-215c10348c26",
   "metadata": {
    "tags": []
   },
   "outputs": [],
   "source": [
    "url = 'https://drive.google.com/uc?id=1evvclIka5gCZrWnH4A71gOURBjHJ8fhI'\n",
    "départements = gpd.read_file(url)\n",
    "départements = départements.drop('code',axis=1)\n",
    "départements.head()"
   ]
  },
  {
   "cell_type": "markdown",
   "id": "93d67322-f662-4b0e-af20-0ee6c854481e",
   "metadata": {},
   "source": [
    "Nous ne pouvons pas ajouter dans une base de données les données de type \"POLYGON\"."
   ]
  },
  {
   "cell_type": "markdown",
   "id": "a0c9753f-5e48-4e60-9b44-4c833c3db5e3",
   "metadata": {},
   "source": [
    "___"
   ]
  },
  {
   "cell_type": "markdown",
   "id": "29a73907-e172-4670-a4bf-e099f2a3848e",
   "metadata": {
    "tags": []
   },
   "source": [
    "## Synthèse"
   ]
  },
  {
   "cell_type": "markdown",
   "id": "8787c340-a73e-45e2-8e55-27f9e2192e61",
   "metadata": {},
   "source": [
    "Nous disposons au total de 14 bases de données, comprenant 5 issues d'API, une extraite d'un fichier XLSX, et 8 provenant de fichiers CSV. Ces bases de données regroupent une variété d'informations, notamment :\n",
    "- **EFIPC** : Indices des prix à la consommation, correction des valeurs saisonnières, inflation sous-jacente (API) \n",
    "- **emploi** : Nombre de demandeurs d'emploi par département en France (API) \n",
    "- **inflation** : Inflation annuelle en pourcentage en France entre 2017 et 2023 (XLSX) \n",
    "- **inflation_prediction** : Prédiction sur l'inflation annuelle en pourcentage en France entre 2017 et 2023 (XLSX)\n",
    "- **DPALE_reg** : Déclarations préalables à l'embauche par département dans les grands secteurs (API) \n",
    "- **DPALE_sexe_age** : Déclarations préalables à l'embauche par an, par sexe et âge (API) \n",
    "- **evolution_salaire_homme** : Évolution du salaire net annuel moyen des postes à temps complet dans le secteur privé pour les hommes (CSV) \n",
    "- **evolution_salaire_femme** : Évolution du salaire net annuel moyen des postes à temps complet dans le secteur privé pour les femmes (CSV)\n",
    "- **evolution_salaire** : Évolution des valeurs du salaire annuel (CSV) \n",
    "- **indice_cout** : Indice du coût du travail - Coût horaire - Ensemble des secteurs (CSV) \n",
    "- **alimentaire_consommation** : Consommation mensuelle des ménages en biens - Alimentaire hors tabac - Volumes aux prix de l'année précédente, chaînés depuis 2014 (CSV) \n",
    "- **energie_conso** : Consommation mensuelle des ménages en biens - Énergie, eau, déchets, cokéfaction et raffinage - Volumes aux prix de l'année précédente, chaînés depuis 2014 (CSV) \n",
    "- **chomage** : Evolution moyennne du chômage entre 2017 et 2023 (XLXS)\n",
    "- **taux_chomage_departements** : Evolution du taux de chômage par département de 2017 à 2023 (CSV)\n",
    "- **régions** : Donnés de géolocalisation pour les régions françaises (GEOJSON)\n",
    "- **départements** : Donnés de géolocalisation pour les départements français (GEOJSON)"
   ]
  },
  {
   "cell_type": "markdown",
   "id": "fcc4e907-1149-44ae-81e1-0a1f27f036f6",
   "metadata": {
    "tags": []
   },
   "source": [
    "<h2 style=\"padding:15px; color:#FFFF; background:#520099\">Analyse</h2>"
   ]
  },
  {
   "cell_type": "markdown",
   "id": "fb3c6ec4",
   "metadata": {},
   "source": [
    "Dans cette partie, on a décidé de faire commencer les impacts de la pandémie de covid 19 à partir de 2020, on a considéré que les effets n'étaient visibles qu'à partir de 2020 et non au cours de l'année 2019."
   ]
  },
  {
   "cell_type": "markdown",
   "id": "0c5765e4-bf64-4a54-9045-8da04731f881",
   "metadata": {
    "tags": []
   },
   "source": [
    "<h2 style=\"padding:15px; color:#FFFF; background: #8a2be2\">Partie 1 : Le salaire et le chômage</h2>"
   ]
  },
  {
   "cell_type": "markdown",
   "id": "6bd96387-16c8-40e2-b5da-4d6bfdf87c90",
   "metadata": {},
   "source": [
    "<h2 style=\"padding:15px; color:#FFFF; background: #bf7de8\">L'evolution du salaire</h2>"
   ]
  },
  {
   "cell_type": "markdown",
   "id": "c694dba3",
   "metadata": {},
   "source": [
    "Étudier l'évolution des salaires entre hommes et femmes, ainsi que le salaire moyen, est important pour plusieurs raisons, notamment :\n",
    "\n",
    "1. **Équité salariale :** L'écart de rémunération entre hommes et femmes est une préoccupation majeure en matière d'équité salariale. L'étude de l'évolution des salaires permet de détecter et de comprendre les disparités salariales entre les genres, contribuant ainsi à promouvoir des pratiques salariales plus équitables.\n",
    "\n",
    "2. **Justice sociale :** En comprenant l'évolution des salaires, les politiques et les pratiques qui ont contribué à l'écart salarial entre hommes et femmes peuvent être identifiées. Cela peut conduire à des initiatives visant à corriger les inégalités et à promouvoir la justice sociale.\n",
    "\n",
    "3. **Productivité et engagement :** Un traitement équitable des employés, indépendamment de leur genre, peut améliorer la satisfaction au travail, l'engagement et la productivité. En étudiant l'évolution des salaires, les entreprises peuvent identifier des opportunités d'amélioration des pratiques de rémunération pour favoriser un environnement de travail équitable et inclusif.\n",
    "\n",
    "4. **Conformité aux réglementations :** Dans de nombreux pays, des réglementations et des lois existent pour promouvoir l'équité salariale entre hommes et femmes. Étudier l'évolution des salaires permet aux entreprises de s'assurer qu'elles respectent les normes légales en matière d'égalité des salaires.\n",
    "\n",
    "5. **Image de l'entreprise :** Les entreprises qui démontrent un engagement envers l'équité salariale peuvent améliorer leur image et leur réputation, attirant ainsi des talents diversifiés et fidélisant leurs employés.\n",
    "\n",
    "6. **Analyse des tendances du marché du travail :** Comprendre l'évolution des salaires peut également aider à analyser les tendances du marché du travail. Par exemple, des disparités salariales persistantes peuvent signaler des problèmes structurels dans l'économie ou le marché du travail.\n",
    "\n",
    "En somme, l'étude de l'évolution des salaires entre hommes et femmes, ainsi que le salaire moyen, est cruciale pour promouvoir l'équité, la justice sociale et la conformité aux normes légales, tout en favorisant des environnements de travail inclusifs et productifs."
   ]
  },
  {
   "cell_type": "markdown",
   "id": "18db34ac-58b4-431e-a859-de1f222c575e",
   "metadata": {},
   "source": [
    "On fusionne les trois DataFrames qui traintent de l'évolution du salaire sur la colonne \"Année\" :"
   ]
  },
  {
   "cell_type": "markdown",
   "id": "f3094e70-6973-44a6-abe0-207f4ed0fcd2",
   "metadata": {},
   "source": [
    "Au tout début, nous récupérons les données sur l'évolution des salaires des hommes, des femmes et l'évolution globale des salaires à partir de trois collections MongoDB distinctes. Les données sont ensuite converties en DataFrames pandas, et les colonnes sont transformées en types numériques. Après fusion des DataFrames sur la colonne \"Année\", les résultats sont combinés en un seul DataFrame, éliminant les colonnes contenant des valeurs manquantes. Enfin, les premières lignes du DataFrame résultant, représentant l'évolution globale des salaires, sont affichées."
   ]
  },
  {
   "cell_type": "code",
   "execution_count": null,
   "id": "ae5903fa-ea15-414b-9716-662ce2a36bab",
   "metadata": {
    "tags": []
   },
   "outputs": [],
   "source": [
    "evolution_salaire_homme = db.evolution_salaire_homme.find()\n",
    "evolution_salaire_femme = db.evolution_salaire_femme.find()\n",
    "evolution_salaire = db.evolution_salaire.find()\n",
    "\n",
    "evolution_salaire_homme = pd.DataFrame(evolution_salaire_homme)\n",
    "evolution_salaire_femme = pd.DataFrame(evolution_salaire_femme)\n",
    "evolution_salaire = pd.DataFrame(evolution_salaire)\n",
    "\n",
    "evolution_salaire_homme = evolution_salaire_homme.apply(pd.to_numeric, errors='coerce', downcast='integer')\n",
    "evolution_salaire_femme = evolution_salaire_femme.apply(pd.to_numeric, errors='coerce', downcast='integer')\n",
    "evolution_salaire = evolution_salaire.apply(pd.to_numeric, errors='coerce', downcast='integer')\n",
    "\n",
    "evolution_salaire_df = pd.merge(evolution_salaire_homme, evolution_salaire_femme, on='Année', suffixes=('_homme', '_femme'))\n",
    "evolution_salaire_df = pd.merge(evolution_salaire_df, evolution_salaire, on='Année', suffixes=('_merged', '_salaire'))\n",
    "evolution_salaire_df = evolution_salaire_df.dropna(axis=1)\n",
    "evolution_salaire_df.head()"
   ]
  },
  {
   "cell_type": "code",
   "execution_count": null,
   "id": "18100fe2",
   "metadata": {
    "tags": []
   },
   "outputs": [],
   "source": [
    "plt.plot(evolution_salaire_df['Année'], evolution_salaire_df['Evolution_salaire_homme'], label='Evolution_salaire_homme', marker='o')\n",
    "plt.plot(evolution_salaire_df['Année'], evolution_salaire_df['Evolution_salaire_femme'], label='Evolution_salaire_femme', marker='o')\n",
    "plt.plot(evolution_salaire_df['Année'], evolution_salaire_df['Evolution_salaire'], label='Evolution_salaire', marker='o')\n",
    "\n",
    "plt.axvline(x=2020, color='r', linestyle='--', label='Pandémie Covid')\n",
    "plt.axvline(x=2022, color='b', linestyle='--', label='Début Guerre Ukraine')\n",
    "\n",
    "plt.title('Évolution des salaires par genre au fil des années')\n",
    "plt.xlabel('Années')\n",
    "plt.ylabel('Évolution des salaires')\n",
    "plt.legend()\n",
    "plt.show()"
   ]
  },
  {
   "cell_type": "markdown",
   "id": "da70e2ac",
   "metadata": {},
   "source": [
    "**Étude du graphique sur l'évolution des salaires par genre au fil des années**\n",
    "\n",
    "Le graphique montre l'évolution des salaires moyens des hommes et des femmes en France entre 2017 et 2023. Les salaires sont mesurés en euros constants, c'est-à-dire qu'ils sont ajustés en fonction de l'inflation.\n",
    "\n",
    "**Tendances générales**\n",
    "\n",
    "Le graphique montre que les salaires des hommes et des femmes ont augmenté de manière significative au cours de la période étudiée. Cependant, l'écart de salaire entre les hommes et les femmes s'est réduit de manière constante.\n",
    "\n",
    "**Pandémie de COVID-19**\n",
    "\n",
    "La pandémie de COVID-19 a eu un impact négatif sur l'économie française, y compris sur les salaires. En 2020, les salaires moyens ont diminué de 5.4 % pour les hommes et de 5.5 % pour les femmes.\n",
    "\n",
    "**Guerre en Ukraine**\n",
    "\n",
    "La guerre en Ukraine a également eu un impact négatif sur l'économie française, y compris sur les salaires. En 2022, les salaires moyens ont augmenté de 0.5 % pour les hommes et de 1.9 % pour les femmes.\n",
    "\n",
    "**Interprétations**\n",
    "\n",
    "L'évolution des salaires par genre au fil des années peut être interprétée de différentes manières.\n",
    "\n",
    "* **Une amélioration de la situation des femmes**\n",
    "\n",
    "L'écart de salaire entre les hommes et les femmes s'est réduit de manière constante au cours de la période étudiée. Cela peut être interprété comme une amélioration de la situation des femmes sur le marché du travail.\n",
    "\n",
    "* **Les effets de la pandémie et de la guerre**\n",
    "\n",
    "La pandémie de COVID-19 et la guerre en Ukraine ont eu un impact négatif sur l'économie française, y compris sur les salaires. Cependant, l'impact de ces événements a été plus important pour les hommes que pour les femmes.\n",
    "\n",
    "* **L'impact de la politique gouvernementale**\n",
    "\n",
    "La politique gouvernementale peut avoir un impact sur les salaires. Par exemple, les politiques d'égalité salariale peuvent contribuer à réduire l'écart de salaire entre les hommes et les femmes.\n",
    "\n",
    "**Conclusion**\n",
    "\n",
    "L'évolution des salaires par genre au fil des années est un phénomène complexe qui peut être interprété de différentes manières. Il est important de tenir compte des facteurs économiques et politiques qui peuvent affecter les salaires."
   ]
  },
  {
   "cell_type": "markdown",
   "id": "0eef127b-0e2f-4981-9ac8-8af2991b4867",
   "metadata": {},
   "source": [
    "<h2 style=\"padding:15px; color:#FFFF; background: #bf7de8\">Nombre de demandeurs d'emploi</h2>"
   ]
  },
  {
   "cell_type": "markdown",
   "id": "648ed696-da1e-4bfa-a564-67f6fc7a275b",
   "metadata": {},
   "source": [
    "Autout debut nous allons extraire les données sur le nombtre de chercheurs d'emploi qui se trouvent dans la collection emploi et les modifier de facon à pouvoir crer une visualisation intercative à l'aide de la fonctionalité Dash."
   ]
  },
  {
   "cell_type": "code",
   "execution_count": null,
   "id": "ae9606ce",
   "metadata": {
    "tags": []
   },
   "outputs": [],
   "source": [
    "emploi = db.emploi.find()\n",
    "emploi = pd.DataFrame(emploi)\n",
    "emploi = emploi.drop('_id',axis=1)"
   ]
  },
  {
   "cell_type": "code",
   "execution_count": null,
   "id": "1c2e6f21",
   "metadata": {
    "tags": []
   },
   "outputs": [],
   "source": [
    "emploi_copy = emploi.copy()\n",
    "emploi_copy['Année'] = pd.to_datetime(emploi_copy['Année'])\n",
    "emploi_copy['Année'] = emploi_copy['Année'].dt.year\n",
    "regions_dropdown = [{'label': region, 'value': region} for region in emploi_copy['Région'].unique()]\n",
    "regions_dropdown.append({'label': 'Synthèse', 'value': 'Synthèse'})\n",
    "\n",
    "app = dash.Dash(__name__)\n",
    "\n",
    "app.layout = html.Div([\n",
    "    dcc.Dropdown(\n",
    "        id='region-dropdown',\n",
    "        options=regions_dropdown,\n",
    "        value='Synthèse'\n",
    "    ),\n",
    "    dcc.Graph(id='employment-graph')\n",
    "])\n",
    "\n",
    "@app.callback(\n",
    "    Output('employment-graph', 'figure'),\n",
    "    [Input('region-dropdown', 'value')]\n",
    ")\n",
    "def update_plot(selected_region):\n",
    "    if selected_region == 'Synthèse':\n",
    "        aggregated_data = emploi_copy.groupby(['Année', 'Région'])['Demandeur_emploi'].mean().reset_index()\n",
    "        fig = px.bar(aggregated_data, x='Année', y='Demandeur_emploi',\n",
    "                     color='Région',\n",
    "                     labels={'Demandeur_emploi': 'Nombre total de demandeurs d\\'emploi'},\n",
    "                     color_discrete_sequence=px.colors.qualitative.Pastel,\n",
    "                     height=600, width=1000)\n",
    "        fig.update_layout(title=f'Nombre total de demandeurs d\\'emploi pour toutes les régions',\n",
    "                          xaxis_title='Année', yaxis_title='Nombre total de demandeurs d\\'emploi',\n",
    "                          barmode='group')\n",
    "        return fig\n",
    "    else:\n",
    "        filtered_data = emploi_copy[emploi_copy['Région'] == selected_region]\n",
    "        aggregated_data = filtered_data.groupby(['Année', 'Trimestres_année'])['Demandeur_emploi'].mean().reset_index()\n",
    "        fig = px.bar(aggregated_data, x='Année', y='Demandeur_emploi',\n",
    "                     color='Trimestres_année',\n",
    "                     color_discrete_map={'T1': '#DDA0DD', 'T2': '#00CCFF', 'T3': '#33CC99', 'T4': '#9999FF'},\n",
    "                     labels={'Demandeur_emploi': 'Nombre total de demandeurs d\\'emploi'},\n",
    "                     category_orders={'Trimestres_année': ['T1', 'T2', 'T3', 'T4']},\n",
    "                     height=600, width=1000)\n",
    "        fig.update_layout(title=f'Nombre total de demandeurs d\\'emploi pour la région {selected_region}',\n",
    "                          xaxis_title='Année', yaxis_title='Nombre total de demandeurs d\\'emploi',\n",
    "                          barmode='group')  # Utiliser 'group' pour avoir des barres côte à côte\n",
    "        return fig\n",
    "\n",
    "if __name__ == '__main__':\n",
    "    app.run_server(debug=True)"
   ]
  },
  {
   "cell_type": "markdown",
   "id": "b29bd9bb-006e-416a-abed-75a77db1cf52",
   "metadata": {},
   "source": [
    "Le graphioque en barres représente le nombre total de demandeurs d'emploi pour différentes régions de France sur une période de 2017 à 2023. Chaque barre colorée correspond à une région spécifique, comme indiqué dans la légende à droite du graphique. Les années sont indiquées sur l'axe des abscisses (horizontalement) et le nombre de demandeurs d'emploi est indiqué sur l'axe des ordonnées (verticalement), avec des valeurs allant de 0 à 60 000.\n",
    "\n",
    "**Voici quelques observations basées sur ce graphique :**\n",
    "- La région Île-de-France semble avoir le plus grand nombre de demandeurs d'emploi chaque année, ce qui est représenté par la barre la plus haute dans chaque groupe d'années.\n",
    "Certaines régions semblent avoir une tendance à la baisse ou à la stabilité en termes de nombre de demandeurs d'emploi au fil des ans.\n",
    "- Il y a une variation notable dans le nombre de demandeurs d'emploi entre les régions, certaines comme la Corse et les départements d'outre-mer (par exemple, Guadeloupe et Martinique) ayant des nombres relativement plus faibles de demandeurs d'emploi.\n",
    "\n",
    "Nous analysons l'impact de la pandémie de COVID-19 en 2020 et de la guerre en Ukraine commencée en 2022 sur le nombre de demandeurs d'emploi en France, comparons les données de ces années spécifiques avec les années précédentes et suivantes présentées dans le graphique.\n",
    "\n",
    "**Pandémie de COVID-19 en 2020 :**\n",
    "\n",
    "Il y a eu une augmentation généralisée du nombre de demandeurs d'emploi dans presque toutes les régions en 2020, ce qui peut être attribué aux effets économiques de la pandémie. Les confinements et les restrictions sanitaires ont fortement impacté de nombreux secteurs, entraînant des fermetures d'entreprises et des licenciements.\n",
    "\n",
    "La région Île-de-France, qui est un centre économique important avec de nombreux secteurs d'activité, semble avoir été particulièrement touchée, avec un pic notable en 2020.\n",
    "\n",
    "D'autres régions montrent également une augmentation du nombre de demandeurs d'emploi en 2020, mais avec des variations selon la structure économique de chaque région.\n",
    "\n",
    "**Guerre en Ukraine en 2022 :**\n",
    "\n",
    "En 2022, l'impact de la guerre en Ukraine sur le marché du travail français n'est pas immédiatement évident dans le graphique. Il pourrait y avoir plusieurs raisons à cela : l'impact indirect de la guerre pourrait être plus diffus, ou bien les effets pourraient ne pas être immédiatement visibles dans les chiffres de l'emploi.\n",
    "\n",
    "Les conséquences économiques de la guerre, qui peuvent inclure l'augmentation des prix de l'énergie et des perturbations dans les chaînes d'approvisionnement, pourraient avoir un effet retardé sur l'emploi.\n",
    "\n",
    "Les données pour 2022 ne montrent pas de pic significatif par rapport à 2021, ce qui suggère que soit l'impact sur le marché du travail n'a pas été aussi direct que celui de la pandémie, soit les mesures de soutien économique mises en place ont pu atténuer les effets sur l'emploi.\n",
    "\n",
    "**Comparaison avec les autres années :**\n",
    "\n",
    "En comparant 2020 et 2022 aux années précédentes et suivantes, on peut observer une tendance à l'augmentation en 2020 liée à la pandémie, suivie d'une certaine stabilisation ou diminution du nombre de demandeurs d'emploi en 2021 et 2023.\n",
    "Il est important de noter que les données pour 2023 peuvent encore être provisoires et susceptibles de changer car nous n'avons toujours pas les données disponibles pour le Trimestre T4.\n",
    "\n",
    "En utilisant la liste déroulante située au-dessus du graphique, nous pouvons sélectionner la région qui nous intéresse pour effectuer cette même analyse."
   ]
  },
  {
   "cell_type": "markdown",
   "id": "4a21c277-2661-429e-bc1a-2f91dff76e14",
   "metadata": {},
   "source": [
    "Nous pouvons allors realiser une analyse plus approfondie, en calculant le pourcentage d'augmentation entre la periode 2019 et 2020 du nombre total de demandeurs d'emploi et observer s'il existe une evolution majeure."
   ]
  },
  {
   "cell_type": "code",
   "execution_count": null,
   "id": "006a782e",
   "metadata": {
    "tags": []
   },
   "outputs": [],
   "source": [
    "def calculate_percentage_increase(emploi, start_year, end_year=None, start_quarter=None, end_quarter=None):\n",
    "    emploi_copy = emploi.copy()\n",
    "    emploi_copy['Année'] = pd.to_datetime(emploi_copy['Année'])\n",
    "    emploi_copy['Année'] = emploi_copy['Année'].dt.year\n",
    "\n",
    "    if end_year is not None:\n",
    "        data_start = emploi_copy[emploi_copy['Année'] == start_year]\n",
    "        data_end = emploi_copy[emploi_copy['Année'] == end_year]\n",
    "    elif start_quarter and end_quarter:\n",
    "        data_start = emploi_copy[(emploi_copy['Année'] == start_year) & (emploi_copy['Trimestres_année'] == start_quarter)]\n",
    "        data_end = emploi_copy[(emploi_copy['Année'] == start_year) & (emploi_copy['Trimestres_année'] == end_quarter)]\n",
    "\n",
    "    grouped_start = data_start.groupby('Région')['Demandeur_emploi'].sum()\n",
    "    grouped_end = data_end.groupby('Région')['Demandeur_emploi'].sum()\n",
    "\n",
    "    percentage_increase = ((grouped_end - grouped_start) / grouped_start.abs()) * 100\n",
    "\n",
    "    result_df = pd.DataFrame({\n",
    "        'Région': percentage_increase.index,\n",
    "        f'Pourcentage_d\\'augmentation_{start_year}_{end_year}' if end_year else f'Pourcentage_d\\'augmentation_{start_quarter}_{end_quarter}_{start_year}': percentage_increase.values\n",
    "    })\n",
    "\n",
    "    return result_df.sort_values(by=f'Pourcentage_d\\'augmentation_{start_year}_{end_year}' if end_year else f'Pourcentage_d\\'augmentation_{start_quarter}_{end_quarter}_{start_year}', ascending=False).reset_index(drop=True)"
   ]
  },
  {
   "cell_type": "code",
   "execution_count": null,
   "id": "a0f62cd6",
   "metadata": {
    "tags": []
   },
   "outputs": [],
   "source": [
    "result_2019_2020 = calculate_percentage_increase(emploi, start_year=2019, end_year=2020)"
   ]
  },
  {
   "cell_type": "code",
   "execution_count": null,
   "id": "24a41566",
   "metadata": {
    "tags": []
   },
   "outputs": [],
   "source": [
    "regions_a_supprimer = ['La Réunion', 'Guadeloupe', 'Guyane', 'Martinique']\n",
    "result_2019_2020 = result_2019_2020[~result_2019_2020['Région'].isin(regions_a_supprimer)]\n",
    "result_2019_2020"
   ]
  },
  {
   "cell_type": "markdown",
   "id": "363279c9-f180-444f-9492-e123ed577aee",
   "metadata": {},
   "source": [
    "D'apres ce DataFrame, nous constatons que le nombre de demandeurs d'emploi en France a augmenté de 4 % entre 2019 et 2020. Cette augmentation est due à plusieurs facteurs, notamment la crise sanitaire de la COVID-19, qui a entraîné des fermetures d'entreprises et des licenciements.\n",
    "\n",
    "L'augmentation du nombre de demandeurs d'emploi est plus marquée dans certaines régions que dans d'autres. L'Île-de-France, qui concentre la majorité des emplois en France, a enregistré une des plus forte augmentation, avec 4,7 %. Les Pays de la Loire (3,7 %), l'Occitanie (2,4 %), la Nouvelle-Aquitaine (2,1 %) et la Corse (8,4 %) ont également connu une augmentation significative.\n",
    "\n",
    "En revanche, une région a enregistré une baisse du nombre de demandeurs d'emploi, c'est les Hauts-de-France. Cette région est moins dépendantes des secteurs économiques qui ont été les plus touchés par la crise sanitaire.\n",
    "\n",
    "**Évolution majeure**\n",
    "\n",
    "L'augmentation du nombre de demandeurs d'emploi en France est une évolution majeure, qui a des conséquences sociales et économiques importantes. Elle touche notamment les jeunes, les personnes peu qualifiées et les personnes en situation de handicap.\n",
    "\n",
    "Le gouvernement français a mis en place plusieurs mesures pour faire face à cette crise, notamment le plan de relance économique et le dispositif d'activité partielle. Ces mesures ont permis de limiter l'ampleur de l'augmentation du chômage, mais elles ne suffisent pas à répondre à tous les besoins."
   ]
  },
  {
   "cell_type": "markdown",
   "id": "da497895-b188-43af-8993-8277d201911f",
   "metadata": {},
   "source": [
    "**Analyse plus approfondie sur 2020**\n",
    "\n",
    "Nous souhaitons alors analyser encore plus en détail ces évolutions entre le premier trimestre T1 et le second T2 de l'année 2020, afin d'observer plus en profondeur l'impact possible de la pandémie sur le nombre de chercheurs d'emploi en France."
   ]
  },
  {
   "cell_type": "code",
   "execution_count": null,
   "id": "618d3669",
   "metadata": {
    "tags": []
   },
   "outputs": [],
   "source": [
    "result_2020_T1_T2 = calculate_percentage_increase(emploi, start_year=2020, start_quarter='T1', end_quarter='T2')\n",
    "result_2020_T1_T2 = result_2020_T1_T2[~result_2020_T1_T2['Région'].isin(regions_a_supprimer)]\n",
    "result_2020_T1_T2"
   ]
  },
  {
   "cell_type": "markdown",
   "id": "c4ed6195-451a-48e2-bef4-e1c7e45e9f7c",
   "metadata": {},
   "source": [
    "Ce DataFrame contient les données sur l'évolution du nombre de demandeurs d'emploi en France entre le premier trimestre (T1) et le second trimestre (T2) de l'année 2020, classées par région.\n",
    "\n",
    "Les variations régionales du nombre de demandeurs d'emploi sont significatives. La Corse, une région axée sur le tourisme, a enregistré la plus forte augmentation, avec une hausse de 28,6 %. D'autres régions ayant connu une forte augmentation sont les Pays de la Loire (7,3 %), Provence-Alpes-Côte d'Azur (7,2 %), la Bretagne (7 %) et l'Auvergne-Rhône-Alpes (6,7 %).\n",
    "\n",
    "**Causalité**\n",
    "\n",
    "L'augmentation du nombre de demandeurs d'emploi entre le premier trimestre (T1) et le second trimestre (T2) de l'année 2020 est attribuable à la crise sanitaire de la COVID-19. En effet, le confinement du printemps 2020 a mis à l'arrêt de nombreux secteurs économiques, notamment le tourisme, la restauration et les services. Cette situation a entraîné la perte de nombreux emplois, provoquant ainsi une augmentation du nombre de demandeurs d'emploi.\n",
    "\n",
    "Les régions ayant enregistré une forte augmentation du nombre de demandeurs d'emploi sont celles qui concentrent la majorité des emplois et qui ont été particulièrement touchées par la crise sanitaire. Il s'agit notamment de l'Île-de-France, de la Nouvelle-Aquitaine, de l'Occitanie, des Pays de la Loire et de la Corse."
   ]
  },
  {
   "cell_type": "markdown",
   "id": "f86ceb67-b0b1-4467-838b-a3fd176f3f3d",
   "metadata": {},
   "source": [
    "De la même façon, nous pouvons analyser afin de déterminer s'il existe un impact de la guerre en Ukraine, déclenchée au début de l'année 2022, sur le nombre de demandeurs d'emploi en France."
   ]
  },
  {
   "cell_type": "code",
   "execution_count": null,
   "id": "45bd9b28",
   "metadata": {
    "tags": []
   },
   "outputs": [],
   "source": [
    "result_2021_2022 = calculate_percentage_increase(emploi, start_year=2021, end_year=2022)\n",
    "result_2021_2022 = result_2021_2022[~result_2021_2022['Région'].isin(regions_a_supprimer)]\n",
    "result_2021_2022"
   ]
  },
  {
   "cell_type": "markdown",
   "id": "1a9a39db-7551-4723-a2db-aa0c0e35665c",
   "metadata": {},
   "source": [
    "Le DataFrame ci-dessus montre l'évolution du nombre de demandeurs d'emploi en France entre 2021 et 2022. On observe une baisse significative du nombre de demandeurs d'emploi entre ces deux années dans toutes les regions.\n",
    "\n",
    "Cette baisse est due à plusieurs facteurs, notamment :\n",
    "\n",
    "- La reprise économique, qui a entraîné la création d'emplois ;\n",
    "- Les mesures de soutien à l'emploi mises en place par le gouvernement français, notamment le plan de relance économique\n",
    "- L'amélioration de la situation sanitaire, qui a permis la réouverture des entreprises et des établissements publics.\n",
    "\n",
    "**Impact de la guerre en Ukraine**\n",
    "\n",
    "D'après les données disponibles, nous ne constatons pas d'impact réel de la guerre en Ukraine sur le nombre de demandeurs d'emploi. Ainsi, l'incidence de la guerre en Ukraine sur l'emploi en France semble limitée, comme observé précédemment sur le graphique en barres. En effet, la France dépend moins de l'énergie russe que d'autres pays européens. De plus, le gouvernement français a mis en place des mesures de soutien à l'économie, notamment des aides aux entreprises et des dispositifs de protection sociale. Pour observer d'éventuels impacts, il est nécessaire de se focaliser sur l'analyse d'autres aspects."
   ]
  },
  {
   "cell_type": "markdown",
   "id": "9373ed39-8808-40c3-be27-1183c586eba4",
   "metadata": {
    "tags": []
   },
   "source": [
    "**Carte graphique par région**\n",
    "\n",
    "Dans un dernier temps, nous pourrons observer ces résultats sur la carte de la France afin de les visualiser plus clairement."
   ]
  },
  {
   "cell_type": "code",
   "execution_count": null,
   "id": "f35ef4ca",
   "metadata": {
    "tags": []
   },
   "outputs": [],
   "source": [
    "fig, axes = plt.subplots(1, 3, figsize=(30, 8))\n",
    "\n",
    "combined_data = pd.concat([result_2019_2020['Pourcentage_d\\'augmentation_2019_2020'],\n",
    "                           result_2020_T1_T2['Pourcentage_d\\'augmentation_T1_T2_2020'],\n",
    "                           result_2021_2022['Pourcentage_d\\'augmentation_2021_2022']], axis=0)\n",
    "\n",
    "vmin, vmax = combined_data.min(), combined_data.max()\n",
    "\n",
    "merged_2019_2020 = régions.merge(result_2019_2020, how='left', left_on='nom', right_on='Région')\n",
    "merged_T1_T2_2020 = régions.merge(result_2020_T1_T2, how='left', left_on='nom', right_on='Région')\n",
    "merged_2021_2022 = régions.merge(result_2021_2022, how='left', left_on='nom', right_on='Région')\n",
    "\n",
    "merged_2019_2020.plot(column='Pourcentage_d\\'augmentation_2019_2020', cmap='Reds', linewidth=0.8, ax=axes[0], edgecolor='0.8', legend=True, vmin=vmin, vmax=vmax)\n",
    "axes[0].set_title(\"Pourcentage d'augmentation des demandeurs d'emploi par région en 2019/2020\",pad=90)\n",
    "axes[0].set_axis_off()\n",
    "\n",
    "merged_T1_T2_2020.plot(column='Pourcentage_d\\'augmentation_T1_T2_2020', cmap='Reds', linewidth=0.8, ax=axes[1], edgecolor='0.8', legend=True, vmin=vmin, vmax=vmax)\n",
    "axes[1].set_title(\"Pourcentage d'augmentation des demandeurs d'emploi par région entre les trimestres 1 et 2 de 2020\",pad=90)\n",
    "axes[1].set_axis_off()\n",
    "\n",
    "merged_2021_2022.plot(column='Pourcentage_d\\'augmentation_2021_2022', cmap='Reds', linewidth=0.8, ax=axes[2], edgecolor='0.8', legend=True, vmin=vmin, vmax=vmax)\n",
    "axes[2].set_title(\"Pourcentage d'augmentation des demandeurs d'emploi par région en 2021/2022\",pad=90)\n",
    "axes[2].set_axis_off()\n",
    "\n",
    "plt.show()"
   ]
  },
  {
   "cell_type": "markdown",
   "id": "752d035e",
   "metadata": {},
   "source": [
    "Cette visualisation montre trois cartes de la France, chacune représentant le taux de chômage par région à différentes périodes.\n",
    "\n",
    "- **La première carte,** à gauche, montre le taux de chômage par région en 2019/2020. Les couleurs vont du blanc au rouge pâle, indiquant des taux de chômage en moyenne faible.\n",
    "\n",
    "- **La deuxième carte,** au centre, montre le changement du taux de chômage entre les trimestres 1 et 2 de 2020. La légende de couleur varie du blanc au marron, indiquant une diminution du taux de chômage (en blanc et tons clairs) à une augmentation (en tons plus sombres).\n",
    "\n",
    "- **La troisième carte,** à droite, indique le taux de chômage par région en 2021/2022. Comme la première carte, elle utilise une palette de couleurs allant du blanc au rouge foncé pour représenter les différents taux de chômage.\n",
    "\n",
    "**En comparant les trois cartes, on peut observer que:**\n",
    "\n",
    "- La première carte présente une situation de base du taux de chômage avant la pandémie.\n",
    "- La deuxième carte montre l'impact immédiat de la pandémie de COVID-19 sur l'emploi, avec des augmentations significatives du chômage dans certaines régions.\n",
    "- La troisième carte semble indiquer une situation de récupération ou de changement continu du taux de chômage, avec certaines régions connaissant une amélioration par rapport à la première carte.\n",
    "\n",
    "**Les différences notables sont les variations régionales du taux de chômage et la dynamique du changement entre les périodes. Certaines régions semblent avoir été plus affectées que d'autres et la récupération économique pourrait ne pas être uniforme à travers le pays.**"
   ]
  },
  {
   "cell_type": "markdown",
   "id": "520b03ef-4f92-4a3e-857d-8de271fe180e",
   "metadata": {},
   "source": [
    "**Conclusion**\n",
    "\n",
    "En synthèse, l'évolution du nombre de demandeurs d'emploi en France se caractérise par une tendance à la baisse depuis 2021, après une période de hausse notable due à la pandémie de COVID-19, particulièrement au cours du deuxième trimestre de 2020. Cette diminution résulte de divers facteurs, notamment la reprise économique, les mesures de soutien à l'emploi mises en place par le gouvernement français, et l'amélioration de la situation sanitaire. Il est également à noter que la guerre en Ukraine, débutée en 2022, n'a pas eu un impact significatif sur le nombre total de demandeurs d'emploi.\n",
    "\n",
    "Cependant, il convient de souligner que l'évolution du nombre de demandeurs d'emploi en France présente d'importantes disparités entre les régions. Les régions les plus touchées par le chômage sont celles dotées d'un tissu économique fragile, notamment dans le secteur du tourisme, particulièrement vulnérable pendant la période de la pandémie. Ces disparités soulignent la nécessité d'adopter des approches différenciées pour aborder les défis du chômage, en prenant en compte les spécificités économiques de chaque région."
   ]
  },
  {
   "cell_type": "markdown",
   "id": "ae1b92a5-4689-4b6f-8a72-53765fc5bb9b",
   "metadata": {
    "tags": []
   },
   "source": [
    "<h2 style=\"padding:15px; color:#FFFF; background: #bf7de8\">Taux de chômage</h2>"
   ]
  },
  {
   "cell_type": "markdown",
   "id": "8118c6a0-391e-4452-ac5b-b1f80bb93ced",
   "metadata": {},
   "source": [
    "#### Analyse generale"
   ]
  },
  {
   "cell_type": "markdown",
   "id": "9cc2a546-3ee0-4802-ae5e-ab8aed2d85bf",
   "metadata": {},
   "source": [
    "Le taux de chômage constitue un indicateur crucial reflétant la proportion de personnes en âge de travailler qui sont sans emploi et activement à la recherche d'un emploi. En France, ce paramètre est souvent évalué au niveau régional pour capturer les disparités géographiques."
   ]
  },
  {
   "cell_type": "markdown",
   "id": "78b7ed6c-02f5-426c-965f-848eb7e22bbb",
   "metadata": {},
   "source": [
    "Dans la première section de notre étude, nous entreprendrons une analyse approfondie de l'évolution du taux de chômage à l'échelle nationale, couvrant la période allant de 2017 à 2023. Notre objectif est d'examiner en détail les tendances, les fluctuations et les éventuelles ruptures observées dans le paysage de l'emploi au fil de ces sept années."
   ]
  },
  {
   "cell_type": "markdown",
   "id": "0ae26abc-07c1-4476-b46c-d65373d621e3",
   "metadata": {},
   "source": [
    "Nous allons donc extraire les données sur le taux de chômage qui se trouvent dans la collection `chomage` de la base de données. Ensuite, nous utiliserons ces données pour créer une visualisation permettant une meilleure analyse de ces données."
   ]
  },
  {
   "cell_type": "code",
   "execution_count": null,
   "id": "276600e1-3b8f-40eb-8f34-c38ce1fb44a5",
   "metadata": {
    "tags": []
   },
   "outputs": [],
   "source": [
    "chomage = db.chomage.find()\n",
    "chomage = pd.DataFrame(chomage)\n",
    "chomage = chomage.drop('_id',axis=1)\n",
    "chomage_copy = chomage.copy()"
   ]
  },
  {
   "cell_type": "code",
   "execution_count": null,
   "id": "eaca0f32-31b9-4643-a39c-078af2bbd6b7",
   "metadata": {
    "tags": []
   },
   "outputs": [],
   "source": [
    "def update_figure(selected_option):\n",
    "    fig = go.Figure()\n",
    "\n",
    "    if selected_option == 'Année':\n",
    "        df_annee = chomage_copy.groupby('Année')['France (hors Mayotte)'].mean().reset_index()\n",
    "        xlabel = 'Année'\n",
    "        fig.data = []\n",
    "        fig.add_trace(go.Scatter(x=df_annee['Année'], y=df_annee['France (hors Mayotte)'],\n",
    "                                 mode='lines+markers',\n",
    "                                 name='Taux de Chômage moyen (%)'))\n",
    "        fig.update_layout(title='Taux de Chômage moyen en France par Année',\n",
    "                          xaxis=dict(title=xlabel),\n",
    "                          yaxis=dict(title='Taux de Chômage moyen (%)'))\n",
    "        \n",
    "    elif selected_option == 'Trimestre':\n",
    "        chomage_copy['Année_trimestre'] = chomage_copy['Année'].astype(str) + '-' + chomage_copy['Trimestre_année']\n",
    "        xlabel = 'Année-Trimestre'\n",
    "        fig.data = []\n",
    "        fig = px.bar(chomage_copy, x='Trimestre_année', y='France (hors Mayotte)',\n",
    "                     labels={'Trimestre_année': xlabel, 'France (hors Mayotte)': 'Taux de Chômage (%)'},\n",
    "                     title='Taux de Chômage en France par Trimestre',\n",
    "                     facet_col='Année',\n",
    "                     category_orders={'Trimestre_année': ['T1', 'T2', 'T3', 'T4']})\n",
    "    fig.show()\n",
    "\n",
    "button = widgets.ToggleButtons(\n",
    "    options=['Année', 'Trimestre'],\n",
    "    description='Option:',\n",
    "    disabled=False,\n",
    "    button_style='primary',\n",
    ")\n",
    "\n",
    "interact(update_figure, selected_option=button);"
   ]
  },
  {
   "cell_type": "markdown",
   "id": "34795c4d-9820-48b0-bf55-f6a4c96926cd",
   "metadata": {},
   "source": [
    "Ce graphique illustre l'évolution du taux de chômage moyen en France par année, de 2017 à 2023, exprimé en pourcentage de la population active. Initialement, une représentation en ligne est utilisée pour afficher les données annuelles, mais grâce à deux boutons situés au-dessus du graphique, il est possible de basculer vers une représentation trimestrielle avec des barres.\n",
    "\n",
    "**Analyse du graphique sur le taux de chômage par an**\n",
    "\n",
    "Depuis 2017, le taux de chômage a connu une diminution progressive, passant de 9,4 % à 7,2 % en 2023. Cette diminution peut s'expliquer par les mesures prises par le gouvernement français pour relancer l'économie. Notamment, la pandémie de Covid-19, débutée en 2020 en France, n'a pas eu un impact significatif sur la moyenne annuelle du taux de chômage.\n",
    "\n",
    "**Analyse du graphique sur le taux de chômage par trimestre**\n",
    "\n",
    "Une observation attentive révèle une forte augmentation du taux de chômage au troisième trimestre de 2020, en raison de la crise sanitaire liée à la pandémie de Covid-19. De 7,1 % au deuxième trimestre 2020, le taux a grimpé à 9 % au troisième trimestre 2020. Cependant, cette hausse n'est pas perceptible au niveau de l'année entière.\n",
    "\n",
    "Par la suite, le taux de chômage a amorcé une diminution graduelle pour atteindre 7,4 % au troisième trimestre 2023, expliquée par la reprise de l'activité économique post-crise sanitaire.\n",
    "\n",
    "**Comparaison du graphique par année et par trimestre**\n",
    "\n",
    "La comparaison entre les graphiques annuel et trimestriel révèle quelques distinctions notables. Tout d'abord, les variations du taux de chômage sont plus prononcées à court terme qu'à long terme. Par exemple, une augmentation de 0,2 point est observée au troisième trimestre 2023, tandis qu'une diminution de 0,07 point est enregistrée sur l'ensemble de l'année 2023.\n",
    "\n",
    "En second lieu, le graphique trimestriel permet de mettre en évidence les effets de la saisonnalité sur le taux de chômage. Plus particulièrement, le taux de chômage tend à être plus élevé au premier trimestre qu'au quatrième, attribuable aux contrats saisonniers d'hiver.\n",
    "\n",
    "Enfin, le graphique trimestriel offre une précision accrue dans le suivi de l'évolution du taux de chômage."
   ]
  },
  {
   "cell_type": "markdown",
   "id": "9f5118a6-61b8-45e0-8cf6-c3a5db3af571",
   "metadata": {},
   "source": [
    "#### Analyse par département"
   ]
  },
  {
   "cell_type": "markdown",
   "id": "6760d973-d652-4109-afd6-840985e90c02",
   "metadata": {},
   "source": [
    "De manière plus approfondie, nous allons représenter graphiquement le taux de chômage enregistré par région pour chaque année en France. Cette opération sera effectuée à l'aide d'un curseur (slider) qui permettra de sélectionner l'année à visualiser."
   ]
  },
  {
   "cell_type": "markdown",
   "id": "c9e95376-c099-40e3-80a9-221ea25b0af5",
   "metadata": {
    "tags": []
   },
   "source": [
    "Notre analyse se penchera sur la représentation graphique de l'évolution du taux de chômage enregistré par région sur une période donnée. À travers un outil interactif de visualisation, tel qu'un curseur (slider), nous permettrons aux utilisateurs de sélectionner aisément l'année qui suscite leur intérêt.\n",
    "\n",
    "Cette approche graphique facilitera la compréhension des tendances du chômage au fil du temps, tout en mettant en lumière les variations régionales. L'objectif est d'offrir une vision détaillée et nuancée du paysage de l'emploi en France, tout en permettant des comparaisons significatives entre les différentes années."
   ]
  },
  {
   "cell_type": "markdown",
   "id": "de7f1b4d-19ff-4509-a4cc-abe325e9bea7",
   "metadata": {},
   "source": [
    "Nous allons extraire les données sur le taux de chômage par département qui se trouvent dans la collection `taux_chomage_departements` de la base de données."
   ]
  },
  {
   "cell_type": "code",
   "execution_count": null,
   "id": "63600f11-29ee-4ee0-863b-088183914eea",
   "metadata": {
    "tags": []
   },
   "outputs": [],
   "source": [
    "taux_chomage_departements = db.taux_chomage_departements.find()\n",
    "taux_chomage_departements = pd.DataFrame(taux_chomage_departements)\n",
    "taux_chomage_departements = taux_chomage_departements.drop(columns='_id', axis=1)\n",
    "taux_chomage_departements.head()"
   ]
  },
  {
   "cell_type": "markdown",
   "id": "a0126ef9-de64-4e28-9448-be14433c133d",
   "metadata": {},
   "source": [
    "Nous allons allors modifier ces données de facon à avoir tous les valuers en une seule varieble et le nom des departements dans une seule variable pour pouvoir fussionner avec les donnes geographiques plus facileNous allons alors restructurer ces données afin d'avoir toutes les valeurs regroupées dans une seule variable et les noms des départements dans une autre variable. Cela facilitera la fusion avec les données géographiques, permettant ainsi la création d'une carte pour visualiser ces données département par département sur l'ensemble de la France.ment, permettant alors de crer une carte pour visaliser ces donénes par departement sur toute la france."
   ]
  },
  {
   "cell_type": "code",
   "execution_count": null,
   "id": "05d0fc98-17b4-4c39-8fef-5d58bcd8e88f",
   "metadata": {
    "tags": []
   },
   "outputs": [],
   "source": [
    "taux_chomage_departements = pd.melt(taux_chomage_departements, id_vars=['Année', 'Trimestre'], var_name='Département', value_name='Taux_chomage')\n",
    "taux_chomage_departements.head()"
   ]
  },
  {
   "cell_type": "code",
   "execution_count": null,
   "id": "3ca7cf20-6b55-4f1a-92df-be726d6e975b",
   "metadata": {
    "tags": []
   },
   "outputs": [],
   "source": [
    "taux_chomage_departements['Année'] = taux_chomage_departements['Année'].astype(int)\n",
    "taux_chomage_departements['Trimestre'] = taux_chomage_departements['Trimestre'].astype(str)\n",
    "taux_chomage_departements['Taux_chomage'] = pd.to_numeric(taux_chomage_departements['Taux_chomage'], errors='coerce')"
   ]
  },
  {
   "cell_type": "code",
   "execution_count": null,
   "id": "bb75ee1e",
   "metadata": {
    "tags": []
   },
   "outputs": [],
   "source": [
    "def update_map(year):\n",
    "    fig, ax = plt.subplots(1, 1, figsize=(10, 8))\n",
    "    subset = taux_chomage_departements[taux_chomage_departements['Année'] == year]\n",
    "    merged_df = départements.merge(subset, left_on='nom', right_on='Département', how='left')\n",
    "    départements.boundary.plot(ax=ax, color='black', linewidth=0.5)\n",
    "    plot = merged_df.plot(column='Taux_chomage', cmap='Reds', linewidth=0.8, ax=ax, edgecolor='0.8', legend=False)\n",
    "    ax.set_title(f'Carte du taux de chômage par département en {year}')\n",
    "    ax.set_axis_off()\n",
    "    ax.set_aspect('equal')\n",
    "    vmin, vmax = taux_chomage_departements['Taux_chomage'].min(), taux_chomage_departements['Taux_chomage'].max()\n",
    "    norm = Normalize(vmin=vmin, vmax=vmax)\n",
    "    cax = fig.add_axes([0.95, 0.2, 0.02, 0.6])\n",
    "    cb = ColorbarBase(cax, cmap='Reds', norm=norm, orientation='vertical')\n",
    "    plt.show()\n",
    "\n",
    "year_slider = widgets.IntSlider(min=int(taux_chomage_departements['Année'].min()), max=int(taux_chomage_departements['Année'].max()), step=1, value=int(taux_chomage_departements['Année'].min()))\n",
    "\n",
    "interact(update_map, year=year_slider);"
   ]
  },
  {
   "cell_type": "markdown",
   "id": "110de1b9-657e-4fe2-bbe2-9671600b619a",
   "metadata": {},
   "source": [
    "La cartographie du taux de chômage par département en France entre 2017 et 2023 propose une analyse approfondie des disparités régionales. En scrutant la gamme de teintes, qui traduisent les différentes intensités du chômage, une tendance générale se dégage avec des taux généralement plus élevés dans les départements du nord, de l'ouest et du sud du pays.\n",
    "\n",
    "Parmi les départements les plus touchés au cours de cette période septennale, la Seine-Saint-Denis, le Val-de-Marne et le Pas-de-Calais se distinguent par des taux fluctuant entre 12 et 14 %. Cette persistance souligne l'impératif d'accorder une attention particulière et de mettre en œuvre des mesures spécifiques dans ces zones géographiques.\n",
    "\n",
    "Notons qu'entre 2017 et 2020, une amélioration du taux de chômage est observée pour la plupart des départements, avec une hausse en 2021 et une nouvelle amélioration par la suite. En 2023, certains départements affichent le taux de chômage le plus bas comparé aux autres années, témoignant d'une dynamique positive dans certaines régions.\n",
    "\n",
    "Il est crucial de souligner que les variations annuelles, notamment post-COVID en 2021, mettent en lumière la sensibilité du taux de chômage aux évolutions économiques et démographiques. La pandémie a accentué ces dynamiques, incitant à une approche proactive dans l'adaptation des politiques d'emploi.\n",
    "\n",
    "En approfondissant l'observation, la corrélation entre les taux de chômage élevés et les départements à économie moins développée soulève des questions cruciales. Ces régions sont souvent caractérisées par une main-d'œuvre moins qualifiée et une croissance économique modérée. Ainsi, les politiques de lutte contre le chômage devraient être conçues pour répondre à ces problématiques spécifiques, mettant l'accent sur l'amélioration des systèmes éducatifs, la facilitation de la formation professionnelle et la création d'opportunités d'emploi.\n",
    "\n",
    "La carte peut être utilisée pour identifier les départements où les politiques de lutte contre le chômage devraient être ciblées. Ces politiques devraient viser à améliorer l'éducation, la formation et les opportunités d'emploi dans ces départements."
   ]
  },
  {
   "cell_type": "markdown",
   "id": "6d8c550c-fd10-412c-aec1-46ea57f72a34",
   "metadata": {},
   "source": [
    "**Conclusion**\n",
    "\n",
    "L'analyse du taux de chômage en France entre 2017 et 2023 dévoile une baisse significative, de 9,4 % à 7,5 %. Cette amélioration, malgré les perturbations de la pandémie en 2020, témoigne de l'efficacité des mesures gouvernementales. La cartographie par département révèle des disparités régionales persistantes, soulignant la nécessité de politiques ciblées. Il est également notable que des fluctuations se manifestent tout au long des trimestres des années, soulignant la dynamique temporelle du marché du travail.\n",
    "\n",
    "La flexibilité du marché du travail face aux défis, notamment la récupération post-pandémique, souligne sa résilience. La corrélation entre chômage élevé et départements moins développés appelle à des initiatives éducatives et d'emploi spécifiques. En somme, cette analyse offre des insights pour des politiques globales et régionales visant à promouvoir l'emploi et à réduire les inégalités."
   ]
  },
  {
   "cell_type": "markdown",
   "id": "7a6b74c3",
   "metadata": {},
   "source": [
    "<h2 style=\"padding:15px; color:#FFFF; background: #bf7de8\">Comparaison des déclarations préalables à l'embauche par département dans les grands secteurs et des déclarations préalables à l'embauche par an, par sexe et âge</h2>"
   ]
  },
  {
   "cell_type": "markdown",
   "id": "99c29946",
   "metadata": {},
   "source": [
    "La différence entre les deux indicateurs est la suivante :\n",
    "\n",
    "* **Dpae_brut** : il s'agit du nombre total de demandeurs d'emploi inscrits à Pôle emploi, y compris les demandeurs d'emploi en fin de droits, les demandeurs d'emploi en formation, et les demandeurs d'emploi en inactivité partielle.\n",
    "* **Dpae_cvs** : il s'agit du nombre de demandeurs d'emploi inscrits à Pôle emploi qui sont susceptibles d'être disponibles pour travailler dans les 15 jours.\n",
    "\n",
    "En d'autres termes, la **Dpae_brut** est un indicateur plus large que la **Dpae_cvs**. Elle inclut des demandeurs d'emploi qui ne sont pas forcément disponibles pour travailler dans un délai court.\n",
    "\n",
    "La **Dpae_brut** est un indicateur important pour suivre l'évolution de la situation du marché du travail. Elle permet de mesurer l'ampleur du chômage, y compris les demandeurs d'emploi qui ne sont pas immédiatement disponibles pour travailler.\n",
    "\n",
    "La **Dpae_cvs** est un indicateur plus précis pour mesurer l'offre de travail disponible. Elle permet de cibler les politiques de soutien à l'emploi."
   ]
  },
  {
   "cell_type": "code",
   "execution_count": null,
   "id": "94221632",
   "metadata": {
    "tags": []
   },
   "outputs": [],
   "source": [
    "DPALE_reg = db.DPALE_reg.find()\n",
    "DPALE_reg = pd.DataFrame(DPALE_reg)\n",
    "DPALE_reg = DPALE_reg.drop(['_id','nature_de_contrat', 'Duree_de_contrat'], axis=1)\n",
    "DPALE_reg = DPALE_reg.rename(columns={'region':'Region', 'trimestre':'Trimestre','duree_de_contrat':'Duree_de_contrat','dpae_cvs':'Dpae_cvs'})\n",
    "DPALE_reg.head()"
   ]
  },
  {
   "cell_type": "code",
   "execution_count": null,
   "id": "f0c3be05",
   "metadata": {
    "tags": []
   },
   "outputs": [],
   "source": [
    "somme_par_annee_cvs = DPALE_reg.groupby('annee')['Dpae_cvs'].sum().reset_index()"
   ]
  },
  {
   "cell_type": "code",
   "execution_count": null,
   "id": "5bb9f6d3",
   "metadata": {
    "tags": []
   },
   "outputs": [],
   "source": [
    "DPALE_sexe_age = db.DPALE_sexe_age.find()\n",
    "DPALE_sexe_age = pd.DataFrame(DPALE_sexe_age)\n",
    "DPALE_sexe_age = DPALE_sexe_age.drop(['_id','Libelle_de_l_age', 'Libelle_du_sexe'], axis=1)\n",
    "DPALE_sexe_age.head()"
   ]
  },
  {
   "cell_type": "code",
   "execution_count": null,
   "id": "4f307d31",
   "metadata": {
    "tags": []
   },
   "outputs": [],
   "source": [
    "somme_par_annee_brut = DPALE_sexe_age.groupby('Année')['Dpae_brut'].sum().reset_index()"
   ]
  },
  {
   "cell_type": "code",
   "execution_count": null,
   "id": "2a18cd30",
   "metadata": {
    "tags": []
   },
   "outputs": [],
   "source": [
    "gdf = gpd.read_file(url)\n",
    "fig, axs = plt.subplots(1, 2, figsize=(16, 8))\n",
    "axs[0].pie(somme_par_annee_cvs['Dpae_cvs'], labels=somme_par_annee_cvs['annee'], autopct='%1.1f%%', startangle=90, colors=plt.cm.Paired.colors)\n",
    "axs[0].legend(title='Année', loc='upper right', bbox_to_anchor=(1.2, 1))\n",
    "axs[0].set_title('Répartition des DPAE_cvs par année')\n",
    "axs[1].pie(somme_par_annee_brut['Dpae_brut'], labels=somme_par_annee_brut['Année'], autopct='%1.1f%%', startangle=90, colors=plt.cm.Paired.colors)\n",
    "axs[1].legend(title='Année', loc='upper right', bbox_to_anchor=(1.2, 1))\n",
    "axs[1].set_title('Répartition des DPAE_brut par année')\n",
    "plt.tight_layout()\n",
    "plt.show()"
   ]
  },
  {
   "cell_type": "markdown",
   "id": "e11a736a",
   "metadata": {},
   "source": [
    "Les deux graphiques présentent la répartition annuelle des demandeurs d'emploi inscrits à Pôle emploi selon deux indicateurs différents : DPAE_brut et DPAE_cvs. Chaque segment correspond à une année spécifique, avec des couleurs distinctes pour chaque année.\n",
    "\n",
    "**Analyse du graphique DPAE_cvs :**\n",
    "- L'année 2022 représente la plus grande part avec 16,0%.\n",
    "- L'année 2018 est la deuxième plus grande avec 15,4%.\n",
    "- Les années 2017, 2019 et 2023 ont des parts assez proches, respectivement 14,6%, 15,2% et 14%.\n",
    "- L'année 2020 a la plus petite part avec 11,4%, ce qui pourrait être dû à des facteurs externes comme la pandémie de COVID-19.\n",
    "\n",
    "**Analyse du graphique DPAE_brut :**\n",
    "- L'année 2022 occupe la plus grande part avec 18,5%.\n",
    "- Les années 2018 et 2019 a également une part significative avec respectivement 17,5% et 17.9%.\n",
    "- Les années 2017,2018 et 2019 sont assez similaires avec respectivement 17,1% 17,6% et 17,9%.\n",
    "- L'année 2020 a la part la plus faible avec 13,1%.\n",
    "\n",
    "**Comparaison entre DPAE_brut et DPAE_cvs :**\n",
    "- Il semble que l'année 2020 ait une part plus faible dans les deux indicateurs, ce qui pourrait indiquer un impact général sur le marché du travail à cette période.\n",
    "- Les parts de l'année 2018 sont élevées dans les deux graphiques, ce qui suggère un grand nombre de demandeurs d'emploi inscrits cette année-là.\n",
    "- Les différences entre les parts pour les autres années peuvent refléter la nature des indicateurs. Puisque le DPAE_brut inclut des catégories supplémentaires de demandeurs d'emploi (fin de droits, en formation, inactivité partielle), il est naturel de voir des chiffres globalement plus élevés par rapport au DPAE_cvs qui ne compte que ceux qui sont immédiatement disponibles pour travailler."
   ]
  },
  {
   "cell_type": "markdown",
   "id": "5a2b2c3d",
   "metadata": {},
   "source": [
    "<h2 style=\"padding:15px; color:#FFFF; background: #8a2be2\">Partie 2 : L'inflation</h2>"
   ]
  },
  {
   "cell_type": "markdown",
   "id": "fd9e91f8",
   "metadata": {},
   "source": [
    "<h2 style=\"padding:15px; color:#FFFF; background: #bf7de8\">L'inflation en général</h2>"
   ]
  },
  {
   "cell_type": "markdown",
   "id": "6e4d80f7",
   "metadata": {},
   "source": [
    "L'inflation est une augmentation générale et durable des prix des biens et services dans une économie au cours d'un certain temps (ici nous étudions la période entre 2017 et 2022). En d'autres termes, cela implique une diminution de la capacité d'achat de la monnaie, ce qui entraîne une augmentation des prix des biens et services courants. Les indices des prix à la consommation, qui reflètent les variations moyennes des prix d'un panier représentatif de biens et services que les consommateurs achètent fréquemment, sont généralement utilisés pour mesurer l'inflation.\n",
    "\n",
    "L'inflation peut être causée par divers facteurs, tels que la demande excédentaire, qui est définie comme une demande totale supérieure à l'offre disponible, les coûts de production croissants, la hausse des salaires, la dépréciation de la monnaie, les pressions sur les matières premières, etc. Dans une économie, un niveau d'inflation modéré est souvent considéré comme normal car il stimule la consommation et l'investissement. Cependant, une inflation excessive peut avoir des conséquences négatives telles que la perte de pouvoir d'achat, l'incertitude économique et des distorsions dans les décisions d'investissement."
   ]
  },
  {
   "cell_type": "markdown",
   "id": "2f1e0895-abfb-4d72-bc5d-276b005a6988",
   "metadata": {},
   "source": [
    "Dans une première partie on récupère les données de la collection MongoDB \"inflation\" et on stocke le résultat dans une variable appelée \"inflation\". on convertit les données MongoDB (qui sont sous forme de dictionnaires) en un DataFrame pandas. On convertit toutes les colonnes du DataFrame en types numériques. Les valeurs qui ne peuvent pas être converties sont remplacées par NaN (Not a Number). On supprime les colonnes qui contiennent au moins une valeur NaN. Cela élimine les colonnes qui ne peuvent pas être converties en nombres. Finalement, on affiche le DataFrame \"inflation\" après les transformations. "
   ]
  },
  {
   "cell_type": "code",
   "execution_count": null,
   "id": "7d9a6336",
   "metadata": {
    "tags": []
   },
   "outputs": [],
   "source": [
    "inflation = db.inflation.find()\n",
    "inflation = pd.DataFrame(inflation)\n",
    "inflation = inflation.apply(pd.to_numeric, errors='coerce', downcast='integer')\n",
    "inflation = inflation.dropna(axis=1)\n",
    "inflation"
   ]
  },
  {
   "cell_type": "code",
   "execution_count": null,
   "id": "e0d8d850",
   "metadata": {
    "tags": []
   },
   "outputs": [],
   "source": [
    "plt.plot(inflation['Année'], inflation[\"taux_d'inflation\"], marker='o')\n",
    "\n",
    "plt.axvline(x=2020, color='r', linestyle='--', label='Pandémie Covid')\n",
    "plt.axvline(x=2022, color='b', linestyle='--', label='Début Guerre Ukraine')\n",
    "\n",
    "plt.title(\"Evolution de l'inflation entre 2017 et 2022\")\n",
    "plt.xlabel('Années')\n",
    "plt.ylabel('Inflation')\n",
    "plt.legend()\n",
    "plt.show()"
   ]
  },
  {
   "cell_type": "markdown",
   "id": "0264fac9",
   "metadata": {},
   "source": [
    "**Les principales conclusions de l'analyse du graphique sont les suivantes :**\n",
    "\n",
    "Alors que les fluctuations de l'indice des prix à la consommation, la principale mesure de l'inflation, étaient relativement faibles d'une année sur l'autre jusqu'en 2021, les prix à la consommation augmenteront considérablement en moyenne annuelle en 2022. Après une croissance de +1,6 % en 2021 et de +0,5 % en 2020, l'inflation annuelle s'élève à 5,2%.\n",
    "\n",
    "L'inflation n'a pas dépassé le seuil de 2 % de 2017 à 2021, avec des causes extérieures en général bien identifiées, telles que les variations des conditions climatiques, l'environnement géopolitique ou les décisions de santé publique (tabac). "
   ]
  },
  {
   "cell_type": "markdown",
   "id": "1c0a4d6a",
   "metadata": {},
   "source": [
    "<h2 style=\"padding:15px; color:#FFFF; background: #bf7de8\">Prédiction de l'inflation entre 2023 et 2028</h2>"
   ]
  },
  {
   "cell_type": "markdown",
   "id": "931000a3-f671-4a51-8af3-6286ecd0ca2f",
   "metadata": {},
   "source": [
    "Pour la partie sur les prédictions, dans une première partie on récupère les données de la collection MongoDB \"inflation_prediction\" et on stocke le résultat dans une variable appelée \"inflation_pred\". On convertit les données MongoDB (qui sont sous forme de dictionnaires) en un DataFrame pandas.  On convertit toutes les colonnes du DataFrame en types numériques. Les valeurs qui ne peuvent pas être converties sont remplacées par NaN (Not a Number). On supprime les colonnes qui contiennent au moins une valeur NaN. Cela élimine les colonnes qui ne peuvent pas être converties en nombres."
   ]
  },
  {
   "cell_type": "code",
   "execution_count": null,
   "id": "005972f8",
   "metadata": {
    "tags": []
   },
   "outputs": [],
   "source": [
    "inflation_pred = db.inflation_prediction.find()\n",
    "inflation_pred = pd.DataFrame(inflation_pred)\n",
    "inflation_pred = inflation_pred.apply(pd.to_numeric, errors='coerce', downcast='integer')\n",
    "inflation_pred = inflation_pred.dropna(axis=1)\n",
    "inflation_pred"
   ]
  },
  {
   "cell_type": "markdown",
   "id": "a306c8df-dd6b-477d-9397-0ffb82365f83",
   "metadata": {},
   "source": [
    "On concaténate les DataFrames \"inflation\" et \"inflation_pred\"."
   ]
  },
  {
   "cell_type": "code",
   "execution_count": null,
   "id": "99bc4415",
   "metadata": {
    "tags": []
   },
   "outputs": [],
   "source": [
    "inflation_total = pd.concat([inflation,inflation_pred], ignore_index=True)\n",
    "inflation_total"
   ]
  },
  {
   "cell_type": "code",
   "execution_count": null,
   "id": "7523d8d0",
   "metadata": {
    "tags": []
   },
   "outputs": [],
   "source": [
    "plt.bar(inflation_total['Année'], inflation_total['taux_d\\'inflation'])\n",
    "plt.xlabel('Année')\n",
    "plt.ylabel('Taux d\\'inflation')\n",
    "plt.title('Taux d\\'inflation par année')\n",
    "plt.axvline(x=2020, color='r', linestyle='--', label='Pandémie Covid')\n",
    "plt.axvline(x=2022, color='b', linestyle='--', label='Début Guerre Ukraine')\n",
    "plt.legend()\n",
    "plt.show()"
   ]
  },
  {
   "cell_type": "markdown",
   "id": "9a6c201b",
   "metadata": {},
   "source": [
    "Les prédictions de l'inflation sont basées sur une variété de facteurs, y compris :\n",
    "\n",
    "- **Les données historiques sur l'inflation.** Les prédicteurs examinent généralement les tendances historiques de l'inflation pour tenter de prédire ce qu'elle sera à l'avenir.\n",
    "\n",
    "- **Les facteurs économiques actuels.** Les prédicteurs examinent également les facteurs économiques actuels qui pourraient affecter l'inflation, tels que la croissance économique, le taux de chômage et les taux d'intérêt.\n",
    "\n",
    "- **Les facteurs économiques actuels.** Les prédicteurs examinent également les facteurs économiques actuels qui pourraient affecter l'inflation, tels que la croissance économique, le taux de chômage et les taux d'intérêt.\n",
    "\n",
    "Dans le cas du conflit israélo-palestinien, il est possible que les prédictions de l'inflation soient biaisées en raison de l'incertitude du conflit. Si le conflit s'intensifie, il pourrait entraîner une hausse des prix des matières premières et des biens énergétiques, ce qui pourrait entraîner une hausse de l'inflation. Cependant, il est également possible que le conflit se calme, ce qui pourrait entraîner une baisse de l'inflation.\n",
    "\n",
    "Il est important de noter que les prédictions de l'inflation sont toujours des estimations et qu'elles peuvent être inexactes. Les prédicteurs utilisent leurs meilleures estimations des facteurs qui affectent l'inflation, mais ils ne peuvent jamais être sûrs de ce qui se passera à l'avenir."
   ]
  },
  {
   "cell_type": "markdown",
   "id": "6ade6820",
   "metadata": {},
   "source": [
    "<h2 style=\"padding:15px; color:#FFFF; background: #bf7de8\">L'évolution de la consommation mensuelle des ménages en biens - Alimentaire hors tabac et de la consommation mensuelle des ménages en biens et Énergie, eau, déchets, cokéfaction et raffinage</h2>"
   ]
  },
  {
   "cell_type": "markdown",
   "id": "392a9d9a-3e95-4066-8f38-f0e406639242",
   "metadata": {},
   "source": [
    "Autout debut, on récupère les données de la collection MongoDB \"alimentation_consommation\" et on stocke le résultat dans une variable appelée \"conso_alimentaire\". On convertit les données MongoDB (qui sont sous forme de dictionnaires) en un DataFrame pandas. On supprime la colonne \"_id\" du DataFrame \"conso_alimentaire\". On utilise la colonne 'Année-Mois' pour extraire l'année et la stocker dans une nouvelle colonne appelée 'Année'. On supprime la colonne 'Année-Mois' du DataFrame \"conso_alimentaire\". On convertit la colonne 'Consommation_Alimentaire' en un type numérique. Les valeurs qui ne peuvent pas être converties sont remplacées par NaN (Not a Number). "
   ]
  },
  {
   "cell_type": "code",
   "execution_count": null,
   "id": "aa0e1cf6",
   "metadata": {
    "tags": []
   },
   "outputs": [],
   "source": [
    "conso_alimentaire = db.alimentation_consommation.find()\n",
    "conso_alimentaire = pd.DataFrame(conso_alimentaire)\n",
    "conso_alimentaire.drop('_id', axis=1, inplace=True)\n",
    "conso_alimentaire['Année'] = pd.to_datetime(conso_alimentaire['Année-Mois']).dt.year\n",
    "conso_alimentaire.drop('Année-Mois', axis=1, inplace=True)\n",
    "conso_alimentaire['Consommation_Alimentaire'] = pd.to_numeric(conso_alimentaire['Consommation_Alimentaire'], errors='coerce')\n",
    "conso_alimentaire.head()"
   ]
  },
  {
   "cell_type": "code",
   "execution_count": null,
   "id": "cdea7efe",
   "metadata": {
    "tags": []
   },
   "outputs": [],
   "source": [
    "plt.figure(figsize=(10, 7))\n",
    "grouped_data = conso_alimentaire.groupby('Année')['Consommation_Alimentaire'].mean().reset_index()\n",
    "plt.boxplot([conso_alimentaire[conso_alimentaire['Année'] == year]['Consommation_Alimentaire'] for year in grouped_data['Année']],\n",
    "            positions=grouped_data['Année'], showmeans=True, meanline=True, meanprops={\"marker\":\"o\", \"markerfacecolor\":\"white\", \"markeredgecolor\":\"black\"})\n",
    "plt.axvline(x=2020, color='r', linestyle='--', label='Pandémie Covid')\n",
    "plt.axvline(x=2022, color='b', linestyle='--', label='Début Guerre Ukraine')\n",
    "plt.title('Boîte à moustaches de la Consommation Alimentaire moyenne par année')\n",
    "plt.xlabel('Année')\n",
    "plt.ylabel('Consommation Alimentaire')\n",
    "plt.legend()\n",
    "plt.show()"
   ]
  },
  {
   "cell_type": "markdown",
   "id": "1dace75d",
   "metadata": {},
   "source": [
    "**Les principales conclusions de l'analyse du graphique sont les suivantes :**\n",
    "\n",
    "- La consommation alimentaire a connu une grosse baisse en 2022, passant de 16,2 kg par habitant en moyenne à 15,7 kg par habitant en moyenne.\n",
    "- Celle-ci a encore plus baissée en 2023 et à atteint environ 15 kg par habitant en moyenne. Si on compare entre 2020 et 2023, on a perdu plus d'un kilogramme.\n",
    "- Cette baisse est due à une combinaison de facteurs, notamment la hausse des prix des produits alimentaires, qui ont réduit le pouvoir d'achat des ménages, et les perturbations de la chaîne d'approvisionnement causées par la pandémie de COVID-19 et la guerre en Ukraine.\n",
    "\n",
    "**Pandémie de COVID-19**\n",
    "\n",
    "La pandémie de COVID-19 a eu un impact important sur l'économie mondiale, y compris sur la consommation alimentaire. Les mesures de confinement et de distanciation sociale ont perturbé les habitudes de consommation des ménages et ont entraîné une baisse de la consommation de certains biens et services, notamment de la restauration et des loisirs.\n",
    "\n",
    "**Guerre en Ukraine**\n",
    "\n",
    "La guerre en Ukraine a également contribué à la baisse de la consommation alimentaire. La guerre a entraîné une hausse des prix des produits alimentaires, notamment des céréales, qui sont une source importante de calories pour les ménages à faible revenu.\n",
    "\n",
    "**Conclusion**\n",
    "\n",
    "Le graphique montre que la consommation alimentaire en France a connu une baisse à partit de 2021. Cette baisse est due à une combinaison de facteurs, notamment la hausse des prix des produits alimentaires et les perturbations de la chaîne d'approvisionnement."
   ]
  },
  {
   "cell_type": "markdown",
   "id": "0debada3-a18d-4325-bb15-d87e9701af46",
   "metadata": {},
   "source": [
    "Ensuite, on récupère les données de la collection MongoDB \"energie_consommation\" et on stocke le résultat dans une variable appelée \"conso_energie\". On convertit les données MongoDB (qui sont sous forme de dictionnaires) en un DataFrame pandas. Supprime la colonne \"_id\" du DataFrame \"conso_energie\". Utilise la colonne 'Année-Mois' pour extraire l'année et la stocker dans une nouvelle colonne appelée 'Année'. On supprime la colonne 'Année-Mois' du DataFrame \"conso_energie\". On convertit la colonne 'Consommation_Energie' en un type numérique. Les valeurs qui ne peuvent pas être converties sont remplacées par NaN (Not a Number). "
   ]
  },
  {
   "cell_type": "code",
   "execution_count": null,
   "id": "cad78c67",
   "metadata": {
    "tags": []
   },
   "outputs": [],
   "source": [
    "conso_energie = db.energie_consommation.find()\n",
    "conso_energie = pd.DataFrame(conso_energie)\n",
    "conso_energie.drop('_id', axis=1, inplace=True)\n",
    "conso_energie['Année'] = pd.to_datetime(conso_energie['Année-Mois']).dt.year\n",
    "conso_energie.drop('Année-Mois', axis=1, inplace=True)\n",
    "conso_energie['Consommation_Energie'] = pd.to_numeric(conso_energie['Consommation_Energie'], errors='coerce')\n",
    "conso_energie.head()"
   ]
  },
  {
   "cell_type": "code",
   "execution_count": null,
   "id": "0e2dc531",
   "metadata": {
    "tags": []
   },
   "outputs": [],
   "source": [
    "plt.figure(figsize=(10, 7))\n",
    "grouped_data = conso_energie.groupby('Année')['Consommation_Energie'].mean().reset_index()\n",
    "plt.boxplot([conso_energie[conso_energie['Année'] == year]['Consommation_Energie'] for year in grouped_data['Année']],\n",
    "            positions=grouped_data['Année'], showmeans=True, meanline=True, meanprops={\"marker\":\"o\", \"markerfacecolor\":\"white\", \"markeredgecolor\":\"black\"})\n",
    "plt.axvline(x=2020, color='r', linestyle='--', label='Pandémie Covid')\n",
    "plt.axvline(x=2022, color='b', linestyle='--', label='Début Guerre Ukraine')\n",
    "plt.title(\"Boîte à moustaches de la Consommation Energétique moyenne par année\")\n",
    "plt.xlabel('Année')\n",
    "plt.ylabel('Consommation Energie')\n",
    "plt.legend()\n",
    "plt.show()"
   ]
  },
  {
   "cell_type": "markdown",
   "id": "214d7100",
   "metadata": {},
   "source": [
    "**Les principales conclusions de l'analyse du graphique sont les suivantes :**\n",
    "\n",
    "- La consommation d'énergie moyenne a connu une baisse significative en 2022, passant d'environ 8,4 kWh par habitant en moyenne à environ 8 kWh par habitant en moyenne.\n",
    "- Cette baisse est due à une combinaison de facteurs, notamment la baisse de la disponibilité du parc nucléaire, la hausse des prix de l'énergie et les mesures de sobriété énergétique prises par le gouvernement.\n",
    "\n",
    "**Pandémie de COVID-19**\n",
    "\n",
    "La pandémie de COVID-19 a eu un impact important sur l'économie mondiale, y compris sur la consommation d'énergie. Les mesures de confinement et de distanciation sociale ont perturbé les habitudes de consommation des ménages et ont entraîné une baisse de la consommation de certains biens et services, notamment de la restauration et des loisirs.\n",
    "\n",
    "**Guerre en Ukraine**\n",
    "\n",
    "La guerre en Ukraine a également contribué à la baisse de la consommation d'énergie. La guerre a entraîné une hausse des prix des produits énergétiques, notamment du pétrole et du gaz, ce qui a incité les ménages à réduire leur consommation d'énergie.\n",
    "\n",
    "**Mesures de sobriété énergétique**\n",
    "\n",
    "Le gouvernement français a également pris des mesures pour réduire la consommation d'énergie, notamment en encourageant les ménages à mieux isoler leurs maisons et à utiliser des appareils électroménagers plus efficaces.\n",
    "\n",
    "**Conclusion**\n",
    "\n",
    "Le graphique montre que la consommation d'énergie moyenne a connu une baisse significative en 2022. Cette baisse est due à une combinaison de facteurs, notamment la baisse de la disponibilité du parc nucléaire, la hausse des prix de l'énergie et les mesures de sobriété énergétique prises par le gouvernement.\n",
    "\n",
    "**Remarques**\n",
    "\n",
    "- Le graphique ne montre pas la consommation d'énergie par source d'énergie. Il serait intéressant de voir comment la consommation d'électricité, de gaz naturel et de carburants a évolué au fil du temps.\n",
    "- Le graphique ne montre pas la consommation d'énergie par secteur. Il serait intéressant de voir comment la consommation d'énergie dans les secteurs résidentiel, industriel et tertiaire a évolué au fil du temps."
   ]
  },
  {
   "cell_type": "markdown",
   "id": "c96f9005",
   "metadata": {},
   "source": [
    "<h2 style=\"padding:15px; color:#FFFF; background: #bf7de8\">Comparaison de la consommation alimentaire et énergétique</h2>"
   ]
  },
  {
   "cell_type": "markdown",
   "id": "e6c53932",
   "metadata": {},
   "source": [
    "Afin de faciliter la comparaison de nos données, nous devons les normaliser en les ramenant à une échelle commune. La normalisation implique la réduction et la standardisation des données, ce qui permet de les rendre comparables en éliminant les différences d'échelle. Cette étape nous offre la possibilité de comparer les tendances et les variations dans nos différentes séries de données de manière plus équitable."
   ]
  },
  {
   "cell_type": "markdown",
   "id": "eab85cc5-0c49-472e-a887-bac5d5c06cbd",
   "metadata": {},
   "source": [
    "On calcule la moyenne de la consommation alimentaire par année. On calcule la moyenne de la consommation d'énergie par année. On calcule la moyenne globale de la consommation alimentaire et de la consommation d'énergie. On calcule l'écart type global de la consommation alimentaire et de la consommation d'énergie. On calcule la valeur moyenne de la consommation alimentaire standardisée. On calcule la valeur moyenne de la consommation d'énergie standardisée. "
   ]
  },
  {
   "cell_type": "code",
   "execution_count": null,
   "id": "c04b7b40",
   "metadata": {
    "tags": []
   },
   "outputs": [],
   "source": [
    "conso_ali_moyenne = conso_alimentaire.groupby('Année')['Consommation_Alimentaire'].mean().reset_index()\n",
    "conso_ene_moyenne = conso_energie.groupby('Année')['Consommation_Energie'].mean().reset_index()\n",
    "mean_value_ali,mean_value_ene = conso_ali_moyenne['Consommation_Alimentaire'].mean(),conso_ene_moyenne['Consommation_Energie'].mean()\n",
    "std_value_ali,std_value_ene = conso_ali_moyenne['Consommation_Alimentaire'].std(),conso_ene_moyenne['Consommation_Energie'].std()\n",
    "conso_ali_moyenne['valeur_moyenne_ali_standardisee'] = (conso_ali_moyenne['Consommation_Alimentaire'] - mean_value_ali) / std_value_ali\n",
    "conso_ene_moyenne['valeur_moyenne_ene_standardisee'] = (conso_ene_moyenne['Consommation_Energie'] - mean_value_ene) / std_value_ene"
   ]
  },
  {
   "cell_type": "code",
   "execution_count": null,
   "id": "9dc1b87f",
   "metadata": {
    "tags": []
   },
   "outputs": [],
   "source": [
    "plt.figure(figsize=(10, 7))\n",
    "plt.plot(conso_ali_moyenne['Année'], conso_ali_moyenne[\"valeur_moyenne_ali_standardisee\"], marker='o', color=\"g\", label='Consommation Alimentaire (standardisée)')\n",
    "plt.plot(conso_ene_moyenne['Année'], conso_ene_moyenne[\"valeur_moyenne_ene_standardisee\"], marker='o', color=\"purple\", label='Consommation Energétique (standardisée)')\n",
    "\n",
    "plt.axvline(x=2020, color='r', linestyle='--', label='Pandémie Covid')\n",
    "plt.axvline(x=2022, color='b', linestyle='--', label='Début Guerre Ukraine')\n",
    "\n",
    "plt.title(\"Evolution de la consommation alimentaire et énergétique (standardisées) entre 2017 et 2022\")\n",
    "plt.xlabel('Années')\n",
    "plt.ylabel('Valeurs standardisée')\n",
    "plt.legend()\n",
    "plt.show()"
   ]
  },
  {
   "cell_type": "markdown",
   "id": "ff1d0b52",
   "metadata": {},
   "source": [
    "**Les principales conclusions de l'analyse du graphique sont les suivantes :**\n",
    "\n",
    "- La consommation alimentaire a connu une légère baisse en 2022, tandis que la consommation énergétique a fortement diminué.\n",
    "- Cette différence s'explique en partie par la hausse des prix des produits alimentaires, qui ont réduit le pouvoir d'achat des ménages.\n",
    "- La hausse des prix des produits énergétiques, notamment du pétrole et du gaz, a également contribué à la baisse de la consommation énergétique.\n",
    "\n",
    "**Pandémie de COVID-19**\n",
    "\n",
    "La pandémie de COVID-19 a eu un impact important sur l'économie mondiale, y compris sur la consommation. Les mesures de confinement et de distanciation sociale ont perturbé les habitudes de consommation des ménages et ont entraîné une baisse de la consommation de certains biens et services, notamment de la restauration et des loisirs.\n",
    "\n",
    "**Guerre en Ukraine**\n",
    "\n",
    "La guerre en Ukraine a également contribué à la baisse de la consommation alimentaire. La guerre a entraîné une hausse des prix des produits alimentaires, notamment des céréales, qui sont une source importante de calories pour les ménages à faible revenu.\n",
    "\n",
    "**Perspectives de la consommation (nous verons ça dans la dernière partie)**\n",
    "\n",
    "La Banque de France s'attend à ce que la consommation alimentaire en France se stabilise en 2023, tandis que la consommation énergétique devrait continuer à augmenter. Cependant, il est possible que la consommation reste affectée par la hausse des prix des produits alimentaires et énergétiques.\n",
    "\n",
    "**Conclusion**\n",
    "\n",
    "Le graphique montre que la consommation alimentaire et énergétique en France a évolué de manière différente entre 2017 et 2022. La consommation alimentaire a connu une légère baisse, tandis que la consommation énergétique une très grosse notamment en 2020 alors que la consommation alimentaire augmentait. Cette différence s'explique en partie par la hausse des prix des produits alimentaires, qui ont réduit le pouvoir d'achat des ménages. La hausse des prix des produits énergétiques, notamment du pétrole et du gaz, a également contribué à la baisse de la consommation énergétique. Ainsi entre 2019 et 2021 les tendances sont inversées, quand la consommation alimentaire augmente, la consommation énergétique diminue et inversement avant que toutes les deux diminuent à partir de 2021."
   ]
  },
  {
   "cell_type": "markdown",
   "id": "7d236fb5",
   "metadata": {},
   "source": [
    "<h2 style=\"padding:15px; color:#FFFF; background: #bf7de8\">Comparaison de l'inflation, les Indices des prix à la consommation et le cout du travail</h2>"
   ]
  },
  {
   "cell_type": "markdown",
   "id": "54d1703b",
   "metadata": {},
   "source": [
    "Un indicateur économique appelé Indice des prix à la consommation mesure les variations moyennes des prix des biens et services consommés par les ménages au fil du temps. Il est employé pour évaluer l'inflation, qui est l'augmentation générale des prix. En général, l'IPC est calculé en comparant les prix d'un panier représentatif de biens et de services à différentes périodes.\n",
    "\n",
    "Correction des valeurs saisonnières : La correction des valeurs saisonnières est une technique statistique utilisée pour supprimer les variations saisonnières régulières et prévisibles des données temporelles. En ajustant les données pour tenir compte des effets saisonniers tels que les fluctuations liées aux saisons de l'année (par exemple, les vacances, les saisons agricoles, etc.), elle vise à isoler les tendances sous-jacentes et les variations cycliques. Cela permet une analyse plus efficace des tendances et des variations cycliques.\n",
    "\n",
    "L'inflation sous-jacente, également appelée inflation de base, est une mesure de l'inflation qui ne prend pas en compte certains facteurs volatils des indices des prix à la consommation, comme les prix de l'énergie et de l'alimentation. L'inflation sous-jacente vise à fournir une mesure plus stable et à long terme de l'évolution des prix en éliminant ces éléments jugés plus susceptibles de subir des fluctuations temporaires, permettant une meilleure évaluation de la pression inflationniste fondamentale dans une économie."
   ]
  },
  {
   "cell_type": "markdown",
   "id": "6b50310f",
   "metadata": {},
   "source": [
    "Afin de faciliter la comparaison de nos données, nous devons les normaliser en les ramenant à une échelle commune. La normalisation implique la réduction et la standardisation des données, ce qui permet de les rendre comparables en éliminant les différences d'échelle. Cette étape nous offre la possibilité de comparer les tendances et les variations dans nos différentes séries de données de manière plus équitable."
   ]
  },
  {
   "cell_type": "markdown",
   "id": "488ce7fe-0a43-4dc6-9e0a-e6f7e87cd270",
   "metadata": {},
   "source": [
    "Autout debut, on récupère les données de la collection MongoDB \"EFIPC\" et on stocke le résultat dans une variable appelée \"EFIPC\". On convertit les données MongoDB (qui sont sous forme de dictionnaires) en un DataFrame pandas. On liste des colonnes à supprimer, dans ce cas, uniquement \"_id\". On supprime la colonne \"_id\" du DataFrame \"EFIPC\". On convertit la colonne 'periode' en un objet de type date. On utilise la colonne 'periode' pour extraire l'année et la stocker dans une nouvelle colonne appelée 'année'. On supprime la colonne 'periode' du DataFrame \"EFIPC\". On calcule la moyenne de la colonne 'valeur' par année et réinitialise l'index. On renomme les colonnes pour plus de clarté. On calcule la moyenne globale de la colonne 'valeur_moyenne'. On calcule l'écart type global de la colonne 'valeur_moyenne'. On calcule la valeur moyenne standardisée en soustrayant la moyenne globale et en divisant par l'écart type global. On affiche le DataFrame \"EFIPC_moyennes\" après les transformations. "
   ]
  },
  {
   "cell_type": "code",
   "execution_count": null,
   "id": "817957ec",
   "metadata": {
    "tags": []
   },
   "outputs": [],
   "source": [
    "EFIPC = db.EFIPC.find()\n",
    "EFIPC = pd.DataFrame(EFIPC)\n",
    "columns_to_drop = ['_id']\n",
    "EFIPC = EFIPC.drop(columns=columns_to_drop, axis=1)\n",
    "EFIPC['periode'] = pd.to_datetime(EFIPC['periode'])\n",
    "EFIPC['année'] = EFIPC['periode'].dt.year\n",
    "EFIPC.drop('periode', axis=1, inplace=True)\n",
    "EFIPC_moyennes = EFIPC.groupby('année')['valeur'].mean().reset_index()\n",
    "EFIPC_moyennes.columns = ['année', 'valeur_moyenne']\n",
    "mean_value = EFIPC_moyennes['valeur_moyenne'].mean()\n",
    "std_value = EFIPC_moyennes['valeur_moyenne'].std()\n",
    "EFIPC_moyennes['valeur_moyenne_standardisee'] = (EFIPC_moyennes['valeur_moyenne'] - mean_value) / std_value\n",
    "EFIPC_moyennes"
   ]
  },
  {
   "cell_type": "markdown",
   "id": "678d04ec-1207-48b3-9759-6c8fb6e182a0",
   "metadata": {},
   "source": [
    "On calcule la moyenne de la colonne \"taux_d'inflation\". On calcule l'écart type de la colonne \"taux_d'inflation\". On calcule la valeur standardisée en soustrayant la moyenne de la colonne \"taux_d'inflation\" et en divisant par son écart type. \n"
   ]
  },
  {
   "cell_type": "code",
   "execution_count": null,
   "id": "b460674c",
   "metadata": {
    "tags": []
   },
   "outputs": [],
   "source": [
    "mean_value = inflation[\"taux_d'inflation\"].mean()\n",
    "std_value = inflation[\"taux_d'inflation\"].std()\n",
    "inflation['taux_standardise'] = (inflation[\"taux_d'inflation\"] - mean_value) / std_value\n",
    "inflation"
   ]
  },
  {
   "cell_type": "markdown",
   "id": "58b992c5",
   "metadata": {},
   "source": [
    "L'indice du coût du travail (ICT) est un indicateur économique qui mesure les variations du coût total de la main-d'œuvre nécessaire pour produire un bien ou un service donné. Cet indice est souvent exprimé en pourcentage et permet de suivre les évolutions du coût du travail au fil du temps.\n",
    "\n",
    "Plus spécifiquement, l'indice du coût du travail - coût horaire - ensemble des secteurs représente le coût horaire moyen de la main-d'œuvre dans tous les secteurs de l'économie. Il englobe les coûts salariaux directs (salaires bruts) ainsi que d'autres éléments tels que les cotisations sociales patronales, les avantages sociaux et les taxes liées à l'emploi. Cet indice est utilisé pour évaluer la pression exercée sur les coûts de production liés à la main-d'œuvre.\n",
    "\n",
    "L'évolution de l'ICT - coût horaire - ensemble des secteurs peut être un indicateur important pour les entreprises, les économistes et les responsables politiques, car elle peut influencer les décisions liées à l'investissement, à l'emploi et aux politiques salariales. Un ICT en hausse peut indiquer une pression accrue sur les coûts pour les entreprises, tandis qu'un ICT en baisse peut suggérer une relative stabilité ou une diminution des coûts du travail."
   ]
  },
  {
   "cell_type": "markdown",
   "id": "9c76da98-c897-4702-a829-9ae0d72fb3e3",
   "metadata": {},
   "source": [
    "On récupère les données de la collection MongoDB \"indice_cout\" et on stocke le résultat dans une variable appelée \"indice_cout_travail\". On convertit les données MongoDB (qui sont sous forme de dictionnaires) en un DataFrame pandas. On liste des colonnes à supprimer, dans ce cas, uniquement \"_id\". Supprime la colonne \"_id\" du DataFrame \"indice_cout_travail\". On convertit la colonne \"Indice_cout_travail\" en valeurs numériques en gérant les erreurs (convertit en NaN si la conversion échoue). On calcule la moyenne de la colonne \"Indice_cout_travail\". On calcule l'écart type de la colonne \"Indice_cout_travail\". On calcule la valeur standardisée en soustrayant la moyenne de la colonne \"Indice_cout_travail\" et en divisant par son écart type. Affiche les premières lignes du DataFrame \"indice_cout_travail\" après les transformations. \n"
   ]
  },
  {
   "cell_type": "code",
   "execution_count": null,
   "id": "fe64c895",
   "metadata": {
    "tags": []
   },
   "outputs": [],
   "source": [
    "indice_cout_travail = db.indice_cout.find()\n",
    "indice_cout_travail = pd.DataFrame(indice_cout_travail)\n",
    "columns_to_drop = ['_id']\n",
    "indice_cout_travail = indice_cout_travail.drop(columns=columns_to_drop, axis=1)\n",
    "indice_cout_travail[\"Indice_cout_travail\"] = pd.to_numeric(indice_cout_travail[\"Indice_cout_travail\"], errors='coerce', downcast='integer')\n",
    "mean_value = indice_cout_travail[\"Indice_cout_travail\"].mean()\n",
    "std_value = indice_cout_travail[\"Indice_cout_travail\"].std()\n",
    "indice_cout_travail['Taux_standardise'] = (indice_cout_travail[\"Indice_cout_travail\"] - mean_value) / std_value\n",
    "indice_cout_travail.head()"
   ]
  },
  {
   "cell_type": "markdown",
   "id": "10403a1d-55d0-415b-8deb-afd057bfc7a3",
   "metadata": {},
   "source": [
    "On utilise la méthode str.split pour diviser les valeurs de la colonne \"Année\" en fonction du caractère '-', puis on utilise expand=True pour créer de nouvelles colonnes à partir des parties séparées. Cela extrait l'année. On convertit la colonne \"Taux_standardise\" en valeurs numériques, en gérant les erreurs (convertit en NaN si la conversion échoue). On convertit la colonne \"Année\" en un objet de type date, en utilisant le format '%Y' pour indiquer que les valeurs représentent des années. On utilise la méthode dt.year pour extraire l'année uniquement. On calcule la moyenne de la colonne \"Taux_standardise\" par année et réinitialise l'index. On affiche les premières lignes du DataFrame \"indice_cout\" après les transformations. "
   ]
  },
  {
   "cell_type": "code",
   "execution_count": null,
   "id": "60c50bc2",
   "metadata": {
    "tags": []
   },
   "outputs": [],
   "source": [
    "indice_cout_travail[['Année']] = indice_cout_travail['Année'].str.split('-', expand=True)\n",
    "indice_cout_travail[\"Taux_standardise\"] = pd.to_numeric(indice_cout_travail[\"Taux_standardise\"], errors='coerce')\n",
    "indice_cout_travail[\"Année\"] = pd.to_datetime(indice_cout_travail[\"Année\"], format='%Y', errors='coerce')\n",
    "indice_cout_travail[\"Année\"] = indice_cout_travail[\"Année\"].dt.year\n",
    "indice_cout = indice_cout_travail.groupby('Année')['Taux_standardise'].mean().reset_index()\n",
    "indice_cout.head()"
   ]
  },
  {
   "cell_type": "code",
   "execution_count": null,
   "id": "b95e8f12",
   "metadata": {
    "tags": []
   },
   "outputs": [],
   "source": [
    "plt.figure(figsize=(10, 7))\n",
    "plt.plot(inflation['Année'], inflation[\"taux_standardise\"], marker='o', color=\"g\", label='Inflation (standardisée)')\n",
    "plt.plot(EFIPC_moyennes['année'], EFIPC_moyennes[\"valeur_moyenne_standardisee\"], marker='o', color=\"purple\", label='Consommation (standardisée)')\n",
    "plt.plot(indice_cout[\"Année\"], indice_cout[\"Taux_standardise\"], marker='o', label='Cout travail (standardisée)')\n",
    "\n",
    "plt.axvline(x=2020, color='r', linestyle='--', label='Pandémie Covid')\n",
    "plt.axvline(x=2022, color='b', linestyle='--', label='Début Guerre Ukraine')\n",
    "\n",
    "plt.title(\"Evolution de l'inflation, de consommation et du coût du travail (standardisées) entre 2017 et 2023\")\n",
    "plt.xlabel('Années')\n",
    "plt.ylabel('Valeurs standardisée')\n",
    "plt.legend()\n",
    "plt.show()"
   ]
  },
  {
   "cell_type": "markdown",
   "id": "68989e2e",
   "metadata": {},
   "source": [
    "**Les principales conclusions de l'analyse du graphique sont les suivantes :**\n",
    "\n",
    "- Le graphique montre que l'inflation a augmenté de manière significative entre 2017 et 2023, passant de -0,5 % en 2017 à 2 % en 2022. Cette augmentation de l'inflation a été principalement causée par la pandémie de COVID-19 et la guerre en Ukraine.\n",
    "\n",
    "- La consommation a également augmenté entre 2017 et 2023, mais de manière moins significative que l'inflation. La consommation a augmenté de -1 % en 2017 à 1.7 % en 2023. Cette augmentation de la consommation a été principalement causée par la reprise économique après la pandémie de COVID-19.\n",
    "\n",
    "- Le coût du travail a également augmenté entre 2017 et 2023, mais de manière moins significative que l'inflation. Le coût du travail a augmenté de -1,4 % en 2017 à 1,7 % en 2022. Cette augmentation du coût du travail a été principalement causée par la hausse des salaires et des charges sociales.\n",
    "\n",
    "- Le graphique montre donc que l'inflation a augmenté de manière significative entre 2017 et 2023, tandis que la consommation et le coût du travail ont augmenté de manière moins significative. Cette évolution est due à la pandémie de COVID-19 et à la guerre en Ukraine.\n",
    "\n",
    "**Voici quelques interprétations supplémentaires du graphique :**\n",
    "\n",
    "- L'augmentation de l'inflation a réduit le pouvoir d'achat des ménages.\n",
    "- L'augmentation de l'inflation a également entraîné une augmentation des coûts de production pour les entreprises.\n",
    "- L'augmentation de la consommation montre que les ménages ont continué à dépenser de l'argent, malgré l'augmentation de l'inflation.\n",
    "- L'augmentation du coût du travail montre que les entreprises ont continué à investir dans leurs salariés, malgré l'augmentation de l'inflati\n",
    "\n",
    "**Pandémie de COVID-19.**\n",
    "\n",
    "La pandémie de COVID-19 a eu un impact important sur l'économie mondiale, y compris sur l'inflation. Les mesures de confinement et de distanciation sociale ont perturbé les chaînes d'approvisionnement et ont entraîné une hausse des prix des biens et services.\n",
    "\n",
    "**Guerre en Ukraine**\n",
    "\n",
    "La guerre en Ukraine a également contribué à la hausse de l'inflation. La guerre a entraîné une hausse des prix des produits énergétiques, notamment du pétrole et du gaz.\n",
    "\n",
    "**Perturbations de la chaîne d'approvisionnement**\n",
    "\n",
    "Les perturbations de la chaîne d'approvisionnement ont également contribué à la hausse de l'inflation. Les perturbations ont été causées par la pandémie de COVID-19, la guerre en Ukraine et d'autres facteurs.\n",
    "\n",
    "**Perspectives de l'inflation (nous l'analyserons dans la quatrième partie)**\n",
    "\n",
    "La Banque centrale européenne (BCE) s'attend à ce que l'inflation en France se stabilise à un niveau légèrement inférieur à 2 % à moyen terme. Cependant, il est possible que l'inflation reste élevée pendant encore quelques mois."
   ]
  },
  {
   "cell_type": "markdown",
   "id": "b9a35a8a",
   "metadata": {},
   "source": [
    "**Remarque**\n",
    "\n",
    "On a remarqué précedemment que la consommation alimentaire et énergétique avaient diminué entre 2017 et 2023 cependant, dans notre dernier graphique, on remarque que la consommation générale a elle augmenté.\n",
    "\n",
    "Il y a plusieurs facteurs qui pourraient expliquer pourquoi la consommation générale augmente, mais que la consommation alimentaire et énergétique a baissé entre 2017 et 2023. Voici quelques explications possibles :\n",
    "\n",
    "1. **Changements dans les habitudes de consommation :** Les tendances en matière de consommation peuvent évoluer au fil du temps en raison de changements dans les préférences des consommateurs. Il se peut que, malgré une augmentation globale de la consommation, les gens aient modifié leurs habitudes alimentaires et énergétiques, optant peut-être pour des choix plus durables ou axés sur la santé.\n",
    "\n",
    "2. **Sensibilisation environnementale :** Une prise de conscience croissante des questions environnementales peut entraîner une réduction de la consommation énergétique. Les consommateurs pourraient être plus attentifs à la réduction de leur empreinte carbone et faire des choix énergétiques plus économes.\n",
    "\n",
    "3. **Innovations technologiques :** Des avancées technologiques peuvent entraîner une amélioration de l'efficacité énergétique des appareils et des processus de production, ce qui pourrait contribuer à une baisse de la consommation énergétique.\n",
    "\n",
    "4. **Changements économiques :** Les conditions économiques, telles que les fluctuations des prix des denrées alimentaires et de l'énergie, peuvent influencer les choix de consommation. Une période de ralentissement économique pourrait conduire à des ajustements dans les dépenses, même si la consommation globale augmente.\n",
    "\n",
    "5. **Préoccupations de santé :** Des préoccupations croissantes concernant la santé pourraient influencer les choix alimentaires, conduisant à une baisse de la consommation alimentaire liée à des produits spécifiques.\n",
    "\n",
    "6. **Politiques et réglementations :** Des politiques et réglementations gouvernementales, telles que des incitations à l'efficacité énergétique ou des campagnes de sensibilisation à la nutrition, pourraient influencer les comportements de consommation."
   ]
  },
  {
   "cell_type": "markdown",
   "id": "db894cc8-8b28-44c4-a5a6-59f3a0503aa9",
   "metadata": {
    "tags": []
   },
   "source": [
    "<h2 style=\"padding:15px; color:#FFFF; background: #8a2be2\">Partie 3 : Les modèles</h2>"
   ]
  },
  {
   "cell_type": "markdown",
   "id": "010f9a1f-b497-4bbc-a043-229c4dbced99",
   "metadata": {
    "tags": []
   },
   "source": [
    "Nous souhaitons créer un modèle permettant de prédire le taux d'inflation."
   ]
  },
  {
   "cell_type": "markdown",
   "id": "2965c253-84f7-4619-8f08-97193ba5d986",
   "metadata": {},
   "source": [
    "Dans une première partie on liste des noms des collections. Ensuite on fusionnne des DataFrames \"evolution_salaire_homme\" et \"evolution_salaire_femme\" sur la colonne 'Année', en ajoutant des suffixes aux colonnes pour différencier les valeurs correspondantes pour les hommes et les femmes. On fusionne aussi le DataFrame résultant avec \"evolution_salaire\" sur la colonne 'Année'. Ensuite, on fusionne le DataFrame résultant avec \"indice_cout\" sur la colonne 'Année'. Et finalement, on fusionne le DataFrame résultant avec \"inflation\" sur la colonne 'Année'. Pour finir, on supprime les colonnes qui contiennent des valeurs NaN. \n"
   ]
  },
  {
   "cell_type": "code",
   "execution_count": null,
   "id": "54331c9c-1b13-46fa-87ce-28aa09b16d3a",
   "metadata": {
    "tags": []
   },
   "outputs": [],
   "source": [
    "inflation = db.inflation.find()\n",
    "inflation = pd.DataFrame(inflation)\n",
    "inflation = inflation.apply(pd.to_numeric, errors='coerce', downcast='integer')"
   ]
  },
  {
   "cell_type": "code",
   "execution_count": null,
   "id": "cc2f5b7f-375f-4df2-a658-dcd96cecb737",
   "metadata": {
    "tags": []
   },
   "outputs": [],
   "source": [
    "evolution_salaire_homme = db.evolution_salaire_homme.find()\n",
    "evolution_salaire_homme = pd.DataFrame(evolution_salaire_homme)\n",
    "evolution_salaire_homme = evolution_salaire_homme.apply(pd.to_numeric, errors='coerce', downcast='integer')\n",
    "evolution_salaire_homme = evolution_salaire_homme.drop('_id',axis=1)"
   ]
  },
  {
   "cell_type": "code",
   "execution_count": null,
   "id": "b4a9e036-4056-476f-baf9-630578298a81",
   "metadata": {
    "tags": []
   },
   "outputs": [],
   "source": [
    "evolution_salaire_femme = db.evolution_salaire_femme.find()\n",
    "evolution_salaire_femme = pd.DataFrame(evolution_salaire_femme)\n",
    "evolution_salaire_femme = evolution_salaire_femme.apply(pd.to_numeric, errors='coerce', downcast='integer')\n",
    "evolution_salaire_femme = evolution_salaire_femme.drop('_id',axis=1)"
   ]
  },
  {
   "cell_type": "code",
   "execution_count": null,
   "id": "cf88d497-dde4-4af5-ba2a-ef41991c6e04",
   "metadata": {
    "tags": []
   },
   "outputs": [],
   "source": [
    "evolution_salaire = db.evolution_salaire.find()\n",
    "evolution_salaire = pd.DataFrame(evolution_salaire)\n",
    "evolution_salaire = evolution_salaire.apply(pd.to_numeric, errors='coerce', downcast='integer')\n",
    "evolution_salaire = evolution_salaire.drop('_id',axis=1)"
   ]
  },
  {
   "cell_type": "code",
   "execution_count": null,
   "id": "6cee10ed-2ace-473c-9c63-e0ca4d5bf868",
   "metadata": {
    "tags": []
   },
   "outputs": [],
   "source": [
    "indice_cout = db.indice_cout.find()\n",
    "indice_cout = pd.DataFrame(indice_cout)\n",
    "indice_cout = indice_cout.drop(['_id'],axis=1)\n",
    "indice_cout['Indice_cout_travail'] = pd.to_numeric(indice_cout['Indice_cout_travail'], errors='coerce')\n",
    "indice_cout['Année'] = pd.to_datetime(indice_cout['Année'], format='%Y').dt.year\n",
    "indice_cout = indice_cout.groupby('Année')['Indice_cout_travail'].mean().reset_index()"
   ]
  },
  {
   "cell_type": "code",
   "execution_count": null,
   "id": "4099a185-b919-4c77-9ce0-3cb89bdd4eb1",
   "metadata": {
    "tags": []
   },
   "outputs": [],
   "source": [
    "collection_names = ['evolution_salaire', 'evolution_salaire_femme', 'evolution_salaire_homme', 'indice_cout', 'inflation', 'inflation_prediction']\n",
    "modele1 = pd.merge(evolution_salaire_homme, evolution_salaire_femme, on='Année', suffixes=('_homme', '_femme'))\n",
    "modele1 = pd.merge(modele1,evolution_salaire, on='Année')\n",
    "modele1=pd.merge(modele1,indice_cout, on='Année')\n",
    "modele1=pd.merge(modele1,inflation, on='Année')\n",
    "modele1 = modele1.dropna(axis=1)\n",
    "modele1"
   ]
  },
  {
   "cell_type": "code",
   "execution_count": null,
   "id": "2cd102e6-f320-43bb-8e96-ec8c25023ea4",
   "metadata": {
    "tags": []
   },
   "outputs": [],
   "source": [
    "X = modele1[['Evolution_salaire_homme', 'Evolution_salaire_femme', 'Evolution_salaire', 'Indice_cout_travail']]\n",
    "X = sm.add_constant(X)\n",
    "y = modele1[\"taux_d'inflation\"]\n",
    "model = sm.OLS(y, X).fit()\n",
    "model.summary()"
   ]
  },
  {
   "cell_type": "markdown",
   "id": "41e8a8f2-f880-4820-b183-2b8cb6a64870",
   "metadata": {
    "tags": []
   },
   "source": [
    "### Analyse des Résultats de Régression OLS (Taux d'Inflation)\n",
    "\n",
    "#### Modèle de Régression OLS - Taux d'Inflation\n",
    "\n",
    "Les résultats de la régression linéaire ordinaire (OLS) pour le modèle de taux d'inflation sont les suivants :\n",
    "\n",
    "- **R-squared (R²) :** 0.948, indiquant un ajustement fort du modèle aux données.\n",
    "\n",
    "- **Coefficients :**\n",
    "  - Constante :15.7350\n",
    "  - Évolution_salaire_homme : 19.2960\n",
    "  - Évolution_salaire_femme : 14.5726\n",
    "  - Évolution_salaire : -33.3270\n",
    "  - *Indice_cout_travail :* -0.1816\n",
    "\n",
    "- **Valeurs p (P>|t|) :**\n",
    "  - Constante : 0.774\n",
    "  - Évolution_salaire_homme  0.568\n",
    "  - Évolution_salaire_femme : 0.510\n",
    "  - Évolution_salaire : 0.548\n",
    "  - Indice_cout_travail : 0.762\n",
    "\n",
    "- **Statistique F :** 4.562 (Prob (F-statistic): 0.336)\n",
    "\n",
    "- **Commentaires :**\n",
    "  - Le R² élevé suggère que le modèle explique bien la variance dans le taux d'inflation.\n",
    "  - Aucun des coefficients n'est significatif à un niveau de confiance de 95% (p-value > 0.05).\n",
    "  - La statistique F relativement basse peut suggérer que le modèle ne contribue pas significativement à l'explication de la variance.\n",
    "\n",
    "- **Tests Statistiques Supplémentaires :**\n",
    "  - Test Omnibus : La valeur élevée indique que les résidus peuvent suivre une distribution normale.\n",
    "  - Test Durbin-Watson : La valeur de 2.096 suggère une faible autocorrélation des résidus.\n",
    "  - Test Jarque-Bera (JB) : La p-value élevée indique que les résidus peuvent suivre une distribution normale.\n",
    "\n",
    "#### Considérations Générales :\n",
    "\n",
    "- Le R² élevé montre que le modèle a une bonne capacité à expliquer la variation dans le taux d'inflation.\n",
    "- Aucun des coefficients n'est significatif individuellement, ce qui peut indiquer que l'ajout de ces variables ne contribue pas de manière significative à la prédiction du taux d'inflation.\n",
    "- La faible valeur de la statistique F suggère que le modèle dans son ensemble n'est pas statistiquement significatif.\n",
    "\n",
    "**Note :** Il est recommandé de recueillir davantage de données pour renforcer la robustesse des résultats de la régression."
   ]
  },
  {
   "cell_type": "code",
   "execution_count": null,
   "id": "5308bb77-ecd8-417a-9b9c-10bfa434cc71",
   "metadata": {
    "tags": []
   },
   "outputs": [],
   "source": [
    "X = modele1[['Evolution_salaire_homme', 'Evolution_salaire_femme']]\n",
    "X = sm.add_constant(X)\n",
    "y = modele1[\"Evolution_salaire\"]\n",
    "model = sm.OLS(y, X).fit()\n",
    "model.summary()"
   ]
  },
  {
   "cell_type": "markdown",
   "id": "ccdb7b07-7a75-4dae-86ec-c28f91405acb",
   "metadata": {
    "tags": []
   },
   "source": [
    "### Analyse des Résultats de Régression OLS (Evolution des salaires)\n",
    "\n",
    "#### Modèle de Régression OLS - Evolution des salaires\n",
    "\n",
    "**Coefficients (coef) :**\n",
    "\n",
    "- const (Intercept) : -0.0562\n",
    "- Evolution_salaire_homme : 0.6353\n",
    "- Evolution_salaire_femme : 0.3645\n",
    "\n",
    "**P values (P>|t|) :**\n",
    "\n",
    "- const (Intercept) : 0.311\n",
    "- Evolution_salaire_homme : 0.001\n",
    "- Evolution_salaire_femme : 0.007\n",
    "\n",
    "- R-carré (R-squared) : 1.000\n",
    "\n",
    "L'ajustement parfait du modèle indique que toutes les variations de la variable dépendante sont expliquées par les variables indépendantes.\n",
    "\n",
    "- R-carré ajusté (Adj. R-squared) : 1.000\n",
    "\n",
    "Il est également de 1.000, ce qui est cohérent avec le R-carré.\n",
    "\n",
    "- Statistique F (F-statistic) : 6784.0\n",
    "\n",
    "La statistique F teste l'hypothèse nulle selon laquelle tous les coefficients de pente sont égaux à zéro. Une valeur très élevée indique le rejet de l'hypothèse nulle.\n",
    "\n",
    "- Prob (Omnibus) : et Prob (JB) :\n",
    "\n",
    "Ces valeurs testent la normalité des résidus. Une p-value élevée suggère que les résidus suivent une distribution normale.\n",
    "\n",
    "- Durbin-Watson : 0.799\n",
    "\n",
    "La statistique Durbin-Watson teste l'autocorrélation des résidus. Une valeur proche de 2 est souhaitable, mais ici, elle est inférieure, indiquant une possible autocorrélation positive.\n",
    "\n",
    "- Condition Number : 17.7\n",
    "\n",
    "La condition number mesure la multicollinéarité. Une valeur basse indique une faible multicollinéarité.\n",
    "\n",
    "**Commentaires sur les Résultats**\n",
    "\n",
    "- Les coefficients significatifs (P>|t| < 0.05) indiquent que les variables indépendantes ont un impact significatif sur la variable dépendante.\n",
    "- Cependant, le R-carré de 1.000 peut suggérer un surajustement du modèle, ce qui peut entraîner des problèmes lors de la généralisation à de nouveaux ensembles de données.\n",
    "- La statistique Durbin-Watson inférieure à 2 suggère une possible autocorrélation positive des résidus.\n",
    "- Les p values élevées pour les tests Omnibus et Jarque-Bera indiquent que les résidus peuvent ne pas suivre une distribution normale.\n",
    "\n",
    "**En conclusion, bien que le modèle semble bien ajusté aux données d'entraînement, il est important de considérer la possibilité de surajustement et d'autres problèmes potentiels, notamment l'autocorrélation des résidus. Une exploration plus approfondie des données et une validation sur des ensembles de données distincts sont recommandées.**"
   ]
  },
  {
   "cell_type": "markdown",
   "id": "dd3f419e-3380-4837-a2d3-b500421190f9",
   "metadata": {
    "tags": []
   },
   "source": [
    "<h2 style=\"padding:15px; color:#FFFF; background: #8a2be2\">Conclusion sur l'Évolution Économique (2017-2023) et Prévisions Futures</h2>"
   ]
  },
  {
   "cell_type": "markdown",
   "id": "0c3b0afa-6db9-49ed-ae9a-7b594738e260",
   "metadata": {
    "tags": []
   },
   "source": [
    "1. **Evolution des salaires :**\n",
    "\n",
    "- Une variation importante des salaires entre 2017 et 2023, avec des taux d'évolution variés pour les hommes et les femmes, ainsi que pour le salaire global. L'amélioration après 2020 suggère une reprise.\n",
    "\n",
    "- Prédictions : Bien que divers facteurs économiques et sociaux puissent influencer les fluctuations, la tendance à la hausse devrait continuer.\n",
    "\n",
    "2. **Evolution du taux de chômage :**\n",
    "\n",
    "- Le taux de chômage fluctuera entre 2017 et 2023, avec des périodes de hausse et de baisse. Ces tendances peuvent être affectées par des changements sectoriels et régionaux.\n",
    "\n",
    "- Prédictions : Les prévisions dépendent des secteurs d'emploi clés, de la politique gouvernementale et de l'économie mondiale.\n",
    "\n",
    "3. **Les changements dans la consommation :**\n",
    "\n",
    "- 2017 à 2023 : Les facteurs économiques et environnementaux peuvent entraîner des changements dans les habitudes de consommation, en particulier dans les secteurs alimentaire et énergétique.\n",
    "- Prédictions : Les tendances du marché, la durabilité et les événements mondiaux peuvent influencer la consommation.\n",
    "\n",
    "4. **L'inflation :**\n",
    "\n",
    "- Le taux d'inflation varie entre 2017 et 2023, avec des périodes de stabilité et d'augmentation. Des facteurs tels que l'offre et la demande, les taux d'intérêt et les politiques gouvernementales peuvent avoir un impact sur l'inflation.\n",
    "\n",
    "- Prédictions : Les indicateurs économiques mondiaux, les politiques monétaires et les événements géopolitiques doivent être pris en compte dans les prévisions.\n",
    "\n",
    "5. **Les facteurs géopolitiques impliqués dans le conflit entre Israël et la Palestine :**\n",
    "\n",
    "La stabilité économique mondiale, les prix de l'énergie et la confiance des consommateurs peuvent être affectés par des événements géopolitiques tels que le conflit Israël-Palestine.\n",
    "\n",
    "**Prévisions Futures :**\n",
    "\n",
    "Les prévisions économiques futures dépendent de nombreux facteurs, y compris la stabilité politique, les politiques gouvernementales, les tendances mondiales et les événements imprévus.\n",
    "La vigilance face aux facteurs géopolitiques est essentielle pour anticiper les risques potentiels sur l'économie.\n",
    "\n"
   ]
  }
 ],
 "metadata": {
  "kernelspec": {
   "display_name": "Python 3 (ipykernel)",
   "language": "python",
   "name": "python3"
  },
  "language_info": {
   "codemirror_mode": {
    "name": "ipython",
    "version": 3
   },
   "file_extension": ".py",
   "mimetype": "text/x-python",
   "name": "python",
   "nbconvert_exporter": "python",
   "pygments_lexer": "ipython3",
   "version": "3.11.4"
  },
  "vscode": {
   "interpreter": {
    "hash": "bd385fe162c5ca0c84973b7dd5c518456272446b2b64e67c2a69f949ca7a1754"
   }
  }
 },
 "nbformat": 4,
 "nbformat_minor": 5
}
